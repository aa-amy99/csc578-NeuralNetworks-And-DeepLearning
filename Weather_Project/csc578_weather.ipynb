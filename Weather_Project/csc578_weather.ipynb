{
 "cells": [
  {
   "cell_type": "markdown",
   "metadata": {
    "colab_type": "text",
    "id": "KD3_JnF3-iWs"
   },
   "source": [
    "# CSC 578 Section 901 Spring 2020\n",
    "# Final Project: Part A Kaggle Competition\n",
    "# Name: Amy Aumpansub"
   ]
  },
  {
   "cell_type": "markdown",
   "metadata": {
    "colab_type": "text",
    "id": "9C10mHqXgmj0"
   },
   "source": [
    "## <font color = blue>Introduction</font>\n",
    "The project is aimed to apply deep learning to develop a strong predictive model for weather forecasting using the time series data recorded by the Max-Planck-Institute for Biogeochemistry. Several models were developed and evaluate with validation set. The hyperparameters were adjusted in each model to examine their effect and improvement on model. The best model was selected regarding to their performance on loss convergence, overfitting, and time taken to build the model. "
   ]
  },
  {
   "cell_type": "markdown",
   "metadata": {
    "colab_type": "text",
    "id": "KvHAgASbi1JR"
   },
   "source": [
    "## <font color = blue>Dataset</font>\n",
    "The original time series weather dataset contains 70,037 records in which each record represent the weather variables recorded in each hour for 8 years from 01.01.2009 01:00:00 am to 01.01.2017 00:00:00 am. The dataset contains a datetime and 14 variables related to weather as shown on the table below. In order to perform the time series forcasting, 4 features: p (mbar), T (degC), rho (g/m^3), wd (deg) were extracted from the dataset. Then, the data were further transform in a form of 48-hour roll out with one target variable. The details were discuss after data exploration section. \n"
   ]
  },
  {
   "cell_type": "markdown",
   "metadata": {},
   "source": [
    "##  <font color = blue>Descriptions of Variables</font>\n",
    "<img src = \"t11.png\"> "
   ]
  },
  {
   "cell_type": "markdown",
   "metadata": {
    "colab_type": "text",
    "id": "CBAFuRbjigbi"
   },
   "source": [
    "## <font color = blue>Methodology</font>\n",
    "The models were developed using deep learning algorithms: LSTM and Bidirectional LSTM. Several Python libraries such as Pandas, Matplotlib, NumPy, sklearn, and Keras, Tensorflow version 2.2 were utilized in this study. The following steps were implemented for this project:\n",
    "\n",
    "• Explored the distribution and basic statistics and visualized data of all attributes\n",
    "\n",
    "• Extracted 4 features:  p (mbar), T (degC), rho (g/m**3), wd (deg)\n",
    "\n",
    "• Performed data stadardization using z-score\n",
    "\n",
    "• Created X part (48 rorlling window (t-47, t)) and Y part (t+6)\n",
    "\n",
    "• Divided data into a training data (48,000 rows) and a test set (21,984 rows) \n",
    "\n",
    "• Splitted the training data into 80% training set for fitting model and 20% validation set for evaluating model\n",
    "\n",
    "• Developed models, adjusted hyperparmeters, and performed model evaluation using MAE loss\n",
    "\n",
    "• Selected the best model and made a weather forcasting for the test set \n"
   ]
  },
  {
   "cell_type": "markdown",
   "metadata": {},
   "source": [
    "---"
   ]
  },
  {
   "cell_type": "markdown",
   "metadata": {
    "colab_type": "text",
    "id": "C5C0lQg8gSbC"
   },
   "source": [
    "## <font color = blue>Data Exploration</font>"
   ]
  },
  {
   "cell_type": "code",
   "execution_count": 1,
   "metadata": {
    "colab": {},
    "colab_type": "code",
    "id": "iAve6DCL4JH4"
   },
   "outputs": [],
   "source": [
    "import matplotlib.pyplot as plt\n",
    "import numpy as np\n",
    "import pandas as pd\n",
    "import tensorflow as tf\n",
    "from tensorflow.keras import datasets, layers, models"
   ]
  },
  {
   "cell_type": "code",
   "execution_count": 2,
   "metadata": {
    "colab": {
     "base_uri": "https://localhost:8080/",
     "height": 34
    },
    "colab_type": "code",
    "id": "Qm1pLTh2bvaa",
    "outputId": "d33e357d-08ff-4da6-da1b-bb060821befe"
   },
   "outputs": [
    {
     "name": "stdout",
     "output_type": "stream",
     "text": [
      "2.1.0\n"
     ]
    }
   ],
   "source": [
    "print(tf.__version__)"
   ]
  },
  {
   "cell_type": "code",
   "execution_count": 3,
   "metadata": {
    "colab": {
     "base_uri": "https://localhost:8080/",
     "height": 476
    },
    "colab_type": "code",
    "id": "nKeRGygIJGER",
    "outputId": "ee34e5d2-4778-44c3-811d-3544d1e3a0d9"
   },
   "outputs": [
    {
     "data": {
      "text/html": [
       "<div>\n",
       "<style scoped>\n",
       "    .dataframe tbody tr th:only-of-type {\n",
       "        vertical-align: middle;\n",
       "    }\n",
       "\n",
       "    .dataframe tbody tr th {\n",
       "        vertical-align: top;\n",
       "    }\n",
       "\n",
       "    .dataframe thead th {\n",
       "        text-align: right;\n",
       "    }\n",
       "</style>\n",
       "<table border=\"1\" class=\"dataframe\">\n",
       "  <thead>\n",
       "    <tr style=\"text-align: right;\">\n",
       "      <th></th>\n",
       "      <th>p (mbar)</th>\n",
       "      <th>T (degC)</th>\n",
       "      <th>Tpot (K)</th>\n",
       "      <th>Tdew (degC)</th>\n",
       "      <th>rh (%)</th>\n",
       "      <th>VPmax (mbar)</th>\n",
       "      <th>VPact (mbar)</th>\n",
       "      <th>VPdef (mbar)</th>\n",
       "      <th>sh (g/kg)</th>\n",
       "      <th>H2OC (mmol/mol)</th>\n",
       "      <th>rho (g/m**3)</th>\n",
       "      <th>wv (m/s)</th>\n",
       "      <th>max. wv (m/s)</th>\n",
       "      <th>wd (deg)</th>\n",
       "    </tr>\n",
       "    <tr>\n",
       "      <th>Date Time</th>\n",
       "      <th></th>\n",
       "      <th></th>\n",
       "      <th></th>\n",
       "      <th></th>\n",
       "      <th></th>\n",
       "      <th></th>\n",
       "      <th></th>\n",
       "      <th></th>\n",
       "      <th></th>\n",
       "      <th></th>\n",
       "      <th></th>\n",
       "      <th></th>\n",
       "      <th></th>\n",
       "      <th></th>\n",
       "    </tr>\n",
       "  </thead>\n",
       "  <tbody>\n",
       "    <tr>\n",
       "      <td>2009-01-01 01:00:00</td>\n",
       "      <td>996.50</td>\n",
       "      <td>-8.05</td>\n",
       "      <td>265.38</td>\n",
       "      <td>-8.78</td>\n",
       "      <td>94.4</td>\n",
       "      <td>3.33</td>\n",
       "      <td>3.14</td>\n",
       "      <td>0.19</td>\n",
       "      <td>1.96</td>\n",
       "      <td>3.15</td>\n",
       "      <td>1307.86</td>\n",
       "      <td>0.21</td>\n",
       "      <td>0.63</td>\n",
       "      <td>192.7</td>\n",
       "    </tr>\n",
       "    <tr>\n",
       "      <td>2009-01-01 02:00:00</td>\n",
       "      <td>996.62</td>\n",
       "      <td>-8.88</td>\n",
       "      <td>264.54</td>\n",
       "      <td>-9.77</td>\n",
       "      <td>93.2</td>\n",
       "      <td>3.12</td>\n",
       "      <td>2.90</td>\n",
       "      <td>0.21</td>\n",
       "      <td>1.81</td>\n",
       "      <td>2.91</td>\n",
       "      <td>1312.25</td>\n",
       "      <td>0.25</td>\n",
       "      <td>0.63</td>\n",
       "      <td>190.3</td>\n",
       "    </tr>\n",
       "    <tr>\n",
       "      <td>2009-01-01 03:00:00</td>\n",
       "      <td>996.84</td>\n",
       "      <td>-8.81</td>\n",
       "      <td>264.59</td>\n",
       "      <td>-9.66</td>\n",
       "      <td>93.5</td>\n",
       "      <td>3.13</td>\n",
       "      <td>2.93</td>\n",
       "      <td>0.20</td>\n",
       "      <td>1.83</td>\n",
       "      <td>2.94</td>\n",
       "      <td>1312.18</td>\n",
       "      <td>0.18</td>\n",
       "      <td>0.63</td>\n",
       "      <td>167.2</td>\n",
       "    </tr>\n",
       "    <tr>\n",
       "      <td>2009-01-01 04:00:00</td>\n",
       "      <td>996.99</td>\n",
       "      <td>-9.05</td>\n",
       "      <td>264.34</td>\n",
       "      <td>-10.02</td>\n",
       "      <td>92.6</td>\n",
       "      <td>3.07</td>\n",
       "      <td>2.85</td>\n",
       "      <td>0.23</td>\n",
       "      <td>1.78</td>\n",
       "      <td>2.85</td>\n",
       "      <td>1313.61</td>\n",
       "      <td>0.10</td>\n",
       "      <td>0.38</td>\n",
       "      <td>240.0</td>\n",
       "    </tr>\n",
       "    <tr>\n",
       "      <td>2009-01-01 05:00:00</td>\n",
       "      <td>997.46</td>\n",
       "      <td>-9.63</td>\n",
       "      <td>263.72</td>\n",
       "      <td>-10.65</td>\n",
       "      <td>92.2</td>\n",
       "      <td>2.94</td>\n",
       "      <td>2.71</td>\n",
       "      <td>0.23</td>\n",
       "      <td>1.69</td>\n",
       "      <td>2.71</td>\n",
       "      <td>1317.19</td>\n",
       "      <td>0.40</td>\n",
       "      <td>0.88</td>\n",
       "      <td>157.0</td>\n",
       "    </tr>\n",
       "  </tbody>\n",
       "</table>\n",
       "</div>"
      ],
      "text/plain": [
       "                     p (mbar)  T (degC)  Tpot (K)  Tdew (degC)  rh (%)  \\\n",
       "Date Time                                                                \n",
       "2009-01-01 01:00:00    996.50     -8.05    265.38        -8.78    94.4   \n",
       "2009-01-01 02:00:00    996.62     -8.88    264.54        -9.77    93.2   \n",
       "2009-01-01 03:00:00    996.84     -8.81    264.59        -9.66    93.5   \n",
       "2009-01-01 04:00:00    996.99     -9.05    264.34       -10.02    92.6   \n",
       "2009-01-01 05:00:00    997.46     -9.63    263.72       -10.65    92.2   \n",
       "\n",
       "                     VPmax (mbar)  VPact (mbar)  VPdef (mbar)  sh (g/kg)  \\\n",
       "Date Time                                                                  \n",
       "2009-01-01 01:00:00          3.33          3.14          0.19       1.96   \n",
       "2009-01-01 02:00:00          3.12          2.90          0.21       1.81   \n",
       "2009-01-01 03:00:00          3.13          2.93          0.20       1.83   \n",
       "2009-01-01 04:00:00          3.07          2.85          0.23       1.78   \n",
       "2009-01-01 05:00:00          2.94          2.71          0.23       1.69   \n",
       "\n",
       "                     H2OC (mmol/mol)  rho (g/m**3)  wv (m/s)  max. wv (m/s)  \\\n",
       "Date Time                                                                     \n",
       "2009-01-01 01:00:00             3.15       1307.86      0.21           0.63   \n",
       "2009-01-01 02:00:00             2.91       1312.25      0.25           0.63   \n",
       "2009-01-01 03:00:00             2.94       1312.18      0.18           0.63   \n",
       "2009-01-01 04:00:00             2.85       1313.61      0.10           0.38   \n",
       "2009-01-01 05:00:00             2.71       1317.19      0.40           0.88   \n",
       "\n",
       "                     wd (deg)  \n",
       "Date Time                      \n",
       "2009-01-01 01:00:00     192.7  \n",
       "2009-01-01 02:00:00     190.3  \n",
       "2009-01-01 03:00:00     167.2  \n",
       "2009-01-01 04:00:00     240.0  \n",
       "2009-01-01 05:00:00     157.0  "
      ]
     },
     "execution_count": 3,
     "metadata": {},
     "output_type": "execute_result"
    }
   ],
   "source": [
    "series = pd.read_csv('./climate_hour.csv', header=0, index_col=0, parse_dates=True, squeeze=True)\n",
    "series.head()"
   ]
  },
  {
   "cell_type": "markdown",
   "metadata": {
    "colab_type": "text",
    "id": "Nrri94fot435"
   },
   "source": [
    "## <font color =blue> Basic Statistics</font>"
   ]
  },
  {
   "cell_type": "code",
   "execution_count": 4,
   "metadata": {
    "colab": {
     "base_uri": "https://localhost:8080/",
     "height": 297
    },
    "colab_type": "code",
    "id": "LYATZSuoue1t",
    "outputId": "b43a30ca-5d4e-4dd4-9ae8-8a42f4632803"
   },
   "outputs": [
    {
     "data": {
      "text/html": [
       "<div>\n",
       "<style scoped>\n",
       "    .dataframe tbody tr th:only-of-type {\n",
       "        vertical-align: middle;\n",
       "    }\n",
       "\n",
       "    .dataframe tbody tr th {\n",
       "        vertical-align: top;\n",
       "    }\n",
       "\n",
       "    .dataframe thead th {\n",
       "        text-align: right;\n",
       "    }\n",
       "</style>\n",
       "<table border=\"1\" class=\"dataframe\">\n",
       "  <thead>\n",
       "    <tr style=\"text-align: right;\">\n",
       "      <th></th>\n",
       "      <th>p (mbar)</th>\n",
       "      <th>T (degC)</th>\n",
       "      <th>rho (g/m**3)</th>\n",
       "      <th>wd (deg)</th>\n",
       "    </tr>\n",
       "  </thead>\n",
       "  <tbody>\n",
       "    <tr>\n",
       "      <td>count</td>\n",
       "      <td>70037.000000</td>\n",
       "      <td>70037.000000</td>\n",
       "      <td>70037.000000</td>\n",
       "      <td>70037.000000</td>\n",
       "    </tr>\n",
       "    <tr>\n",
       "      <td>mean</td>\n",
       "      <td>989.214407</td>\n",
       "      <td>9.441694</td>\n",
       "      <td>1216.101047</td>\n",
       "      <td>174.943301</td>\n",
       "    </tr>\n",
       "    <tr>\n",
       "      <td>std</td>\n",
       "      <td>8.360583</td>\n",
       "      <td>8.420257</td>\n",
       "      <td>39.964559</td>\n",
       "      <td>86.619521</td>\n",
       "    </tr>\n",
       "    <tr>\n",
       "      <td>min</td>\n",
       "      <td>918.500000</td>\n",
       "      <td>-22.760000</td>\n",
       "      <td>1066.190000</td>\n",
       "      <td>0.000000</td>\n",
       "    </tr>\n",
       "    <tr>\n",
       "      <td>25%</td>\n",
       "      <td>984.200000</td>\n",
       "      <td>3.350000</td>\n",
       "      <td>1187.560000</td>\n",
       "      <td>125.500000</td>\n",
       "    </tr>\n",
       "    <tr>\n",
       "      <td>50%</td>\n",
       "      <td>989.580000</td>\n",
       "      <td>9.410000</td>\n",
       "      <td>1213.850000</td>\n",
       "      <td>198.400000</td>\n",
       "    </tr>\n",
       "    <tr>\n",
       "      <td>75%</td>\n",
       "      <td>994.730000</td>\n",
       "      <td>15.460000</td>\n",
       "      <td>1242.850000</td>\n",
       "      <td>234.300000</td>\n",
       "    </tr>\n",
       "    <tr>\n",
       "      <td>max</td>\n",
       "      <td>1015.290000</td>\n",
       "      <td>37.280000</td>\n",
       "      <td>1392.560000</td>\n",
       "      <td>360.000000</td>\n",
       "    </tr>\n",
       "  </tbody>\n",
       "</table>\n",
       "</div>"
      ],
      "text/plain": [
       "           p (mbar)      T (degC)  rho (g/m**3)      wd (deg)\n",
       "count  70037.000000  70037.000000  70037.000000  70037.000000\n",
       "mean     989.214407      9.441694   1216.101047    174.943301\n",
       "std        8.360583      8.420257     39.964559     86.619521\n",
       "min      918.500000    -22.760000   1066.190000      0.000000\n",
       "25%      984.200000      3.350000   1187.560000    125.500000\n",
       "50%      989.580000      9.410000   1213.850000    198.400000\n",
       "75%      994.730000     15.460000   1242.850000    234.300000\n",
       "max     1015.290000     37.280000   1392.560000    360.000000"
      ]
     },
     "execution_count": 4,
     "metadata": {},
     "output_type": "execute_result"
    }
   ],
   "source": [
    "series[['p (mbar)', 'T (degC)', 'rho (g/m**3)', 'wd (deg)']].describe()"
   ]
  },
  {
   "cell_type": "markdown",
   "metadata": {
    "colab_type": "text",
    "id": "NdL_3AQxuJwG"
   },
   "source": [
    "The table ablove shows the statistics of 4 features:\n",
    "\n",
    "• The range of p(mbar) is 918.50 - 1015.29 with the mean of 989.21. The standard deviation of p(mbar) is 8.36.\n",
    "\n",
    "• The range of T(degC) is -22.76 - 37.28 with the mean of 9.44 Celcius. The standard deviation of T(degC) is 8.42.\n",
    "\n",
    "• The range of rho (g/m^3) is 1066.19 - 1392.56 with the mean of 1216.10. The standard deviation of rho (g/m^3) is 39.96.\n",
    "\n",
    "• The range of wd (deg) is 0 - 360 with the mean of 174.94. The standard deviation of wd (deg) is 86.61.\n",
    "\n",
    "We will further examine the distribution from the time series plots and histograms in the following part."
   ]
  },
  {
   "cell_type": "markdown",
   "metadata": {},
   "source": [
    "---"
   ]
  },
  {
   "cell_type": "markdown",
   "metadata": {
    "colab_type": "text",
    "id": "l6Uz5BKZvpA4"
   },
   "source": [
    "## <font color =blue>Data Distribution</font>"
   ]
  },
  {
   "cell_type": "markdown",
   "metadata": {},
   "source": [
    "As we will use only 4 features to build the network. We will further examine the pattern and distribution of thpse varaibles in details by creating time series plot and histograms.\n",
    "<img src = \"t2.png\"> "
   ]
  },
  {
   "cell_type": "markdown",
   "metadata": {
    "colab_type": "text",
    "id": "JRBKjrWByYi9"
   },
   "source": [
    "## a). Time Series Plots"
   ]
  },
  {
   "cell_type": "code",
   "execution_count": 5,
   "metadata": {
    "colab": {
     "base_uri": "https://localhost:8080/",
     "height": 302
    },
    "colab_type": "code",
    "id": "wBuCkA7YJGEX",
    "outputId": "2eba4e01-c82b-4de4-fcde-0d1a9fef9b9d"
   },
   "outputs": [
    {
     "data": {
      "text/plain": [
       "<matplotlib.legend.Legend at 0x145612250>"
      ]
     },
     "execution_count": 5,
     "metadata": {},
     "output_type": "execute_result"
    },
    {
     "data": {
      "image/png": "[encoded data removed]",
      "text/plain": [
       "<Figure size 432x288 with 1 Axes>"
      ]
     },
     "metadata": {
      "needs_background": "light"
     },
     "output_type": "display_data"
    }
   ],
   "source": [
    "#Create Time series plot from 01/2009 to 31/2016\n",
    "series['p (mbar)'].plot(color='blue')\n",
    "plt.ylabel('p (mbar)')\n",
    "plt.title('Air Pressure VS DateTime')\n",
    "plt.legend()"
   ]
  },
  {
   "cell_type": "markdown",
   "metadata": {
    "colab_type": "text",
    "id": "bItdkVv1wUtQ"
   },
   "source": [
    "The plot shows an obviously seasonal trend, in which the airpressure (p) ranges between 918.50 and 1015.29 with some noise (a sharp drop in pressure in the middle of 2011, 2012, and 2015).\n",
    "\n",
    "\n"
   ]
  },
  {
   "cell_type": "code",
   "execution_count": 6,
   "metadata": {
    "colab": {
     "base_uri": "https://localhost:8080/",
     "height": 302
    },
    "colab_type": "code",
    "id": "a3ANLH2UJGEd",
    "outputId": "a0ef9fb0-dee8-4082-f0c6-2d47846ac200"
   },
   "outputs": [
    {
     "data": {
      "text/plain": [
       "<matplotlib.legend.Legend at 0x145d09750>"
      ]
     },
     "execution_count": 6,
     "metadata": {},
     "output_type": "execute_result"
    },
    {
     "data": {
      "image/png": "[encoded data removed]",
      "text/plain": [
       "<Figure size 432x288 with 1 Axes>"
      ]
     },
     "metadata": {
      "needs_background": "light"
     },
     "output_type": "display_data"
    }
   ],
   "source": [
    "#Create Time series plot from 01/2009 to 31/2016\n",
    "series['T (degC)'].plot(color='green')\n",
    "plt.ylabel('T (degC)')\n",
    "plt.title('Temperature(C) VS DateTime')\n",
    "plt.legend()"
   ]
  },
  {
   "cell_type": "markdown",
   "metadata": {
    "colab_type": "text",
    "id": "wuoJHq_nxGy-"
   },
   "source": [
    "The temperature (T) has a clear seasonal trend, which ranges between -22.76 and 37.28 with some noise (the middle of 2009 and 2012). Most data are aligned with the mean of 9.4 Celcuis."
   ]
  },
  {
   "cell_type": "code",
   "execution_count": 7,
   "metadata": {
    "colab": {
     "base_uri": "https://localhost:8080/",
     "height": 302
    },
    "colab_type": "code",
    "id": "ZaZscRftJGEh",
    "outputId": "b6dcd6e4-d4b4-4384-c974-2ba5d64f1fee"
   },
   "outputs": [
    {
     "data": {
      "text/plain": [
       "<matplotlib.legend.Legend at 0x14579ee10>"
      ]
     },
     "execution_count": 7,
     "metadata": {},
     "output_type": "execute_result"
    },
    {
     "data": {
      "image/png": "[encoded data removed]",
      "text/plain": [
       "<Figure size 432x288 with 1 Axes>"
      ]
     },
     "metadata": {
      "needs_background": "light"
     },
     "output_type": "display_data"
    }
   ],
   "source": [
    "#Create Time series plot from 01/2009 to 31/2016\n",
    "series['rho (g/m**3)'].plot(color='purple')\n",
    "plt.ylabel('rho (g/m**3)')\n",
    "plt.title('Airtight VS DateTime')\n",
    "plt.legend()"
   ]
  },
  {
   "cell_type": "markdown",
   "metadata": {
    "colab_type": "text",
    "id": "7HMvjwAzxhbc"
   },
   "source": [
    "The airtight (rho) plot has a seasonal trend as the values fluctuate in specific months. The rho value ranges between 1066.19 and 1392.56 with some noise (a sharp drop in the middle of 2011 and a shaep increase in 2009 and 2012)."
   ]
  },
  {
   "cell_type": "code",
   "execution_count": 8,
   "metadata": {
    "colab": {
     "base_uri": "https://localhost:8080/",
     "height": 302
    },
    "colab_type": "code",
    "id": "Uru0toS5JGEo",
    "outputId": "d34cc684-0126-4138-c299-4f2975b2a34f"
   },
   "outputs": [
    {
     "data": {
      "text/plain": [
       "<matplotlib.legend.Legend at 0x1465f98d0>"
      ]
     },
     "execution_count": 8,
     "metadata": {},
     "output_type": "execute_result"
    },
    {
     "data": {
      "image/png": "[encoded data removed]",
      "text/plain": [
       "<Figure size 432x288 with 1 Axes>"
      ]
     },
     "metadata": {
      "needs_background": "light"
     },
     "output_type": "display_data"
    }
   ],
   "source": [
    "#Create Time series plot from 01/2009 to 31/2016\n",
    "series['wd (deg)'].plot(color='orange')\n",
    "plt.ylabel('wd (deg)')\n",
    "plt.title('Wind Direction VS DateTime')\n",
    "plt.legend()"
   ]
  },
  {
   "cell_type": "markdown",
   "metadata": {
    "colab_type": "text",
    "id": "q_X-oDY4yOkJ"
   },
   "source": [
    "The wind direction (wd) value ranges between 0 and 360 degree. The plot doesn't show a clear pattern, so we will plot the histrogram to check for the distribution"
   ]
  },
  {
   "cell_type": "markdown",
   "metadata": {},
   "source": [
    "---"
   ]
  },
  {
   "cell_type": "markdown",
   "metadata": {
    "colab_type": "text",
    "id": "Y3Kz4OBSymQ1"
   },
   "source": [
    "## b). Histograms"
   ]
  },
  {
   "cell_type": "code",
   "execution_count": 14,
   "metadata": {
    "colab": {
     "base_uri": "https://localhost:8080/",
     "height": 298
    },
    "colab_type": "code",
    "id": "xaXoMqmsJGEZ",
    "outputId": "91644cb9-6126-46d9-e315-0ea7e9004c3e"
   },
   "outputs": [
    {
     "data": {
      "image/png": "[encoded data removed]",
      "text/plain": [
       "<Figure size 432x288 with 1 Axes>"
      ]
     },
     "metadata": {
      "needs_background": "light"
     },
     "output_type": "display_data"
    }
   ],
   "source": [
    "#Create Histogram to check distribution\n",
    "series['p (mbar)'].hist(color='blue',  edgecolor='black', linewidth=1.2)\n",
    "plt.xlabel('p (mbar)')\n",
    "plt.title('Air Pressure Histrogram')\n",
    "plt.grid(b=None)"
   ]
  },
  {
   "cell_type": "markdown",
   "metadata": {
    "colab_type": "text",
    "id": "g2yqUTDNykvo"
   },
   "source": [
    "The airpressure (p) ranges between 918.50 and 1015.29. The distribution is closed to normal with the high frequency around the mean of 989."
   ]
  },
  {
   "cell_type": "code",
   "execution_count": 15,
   "metadata": {
    "colab": {
     "base_uri": "https://localhost:8080/",
     "height": 298
    },
    "colab_type": "code",
    "id": "7JvroCteJGEf",
    "outputId": "f767f2f6-95dd-4dd1-d3cd-39c2d2c975a0"
   },
   "outputs": [
    {
     "data": {
      "image/png": "[encoded data removed]",
      "text/plain": [
       "<Figure size 432x288 with 1 Axes>"
      ]
     },
     "metadata": {
      "needs_background": "light"
     },
     "output_type": "display_data"
    }
   ],
   "source": [
    "#Create Histogram to check distribution\n",
    "series['T (degC)'].hist(color='green',  edgecolor='black', linewidth=1.2)\n",
    "plt.xlabel('T (degC)')\n",
    "plt.title('Histogram')\n",
    "plt.grid(b=None)"
   ]
  },
  {
   "cell_type": "markdown",
   "metadata": {
    "colab_type": "text",
    "id": "v2g3a6BWzWdg"
   },
   "source": [
    "The distribution is normal. The temperature (T) ranges between -22.76 and 37.28. Most data are aligned with the mean of 9.4 Celcuis. "
   ]
  },
  {
   "cell_type": "code",
   "execution_count": 16,
   "metadata": {
    "colab": {
     "base_uri": "https://localhost:8080/",
     "height": 298
    },
    "colab_type": "code",
    "id": "XNc6FSg1JGEm",
    "outputId": "bd896dd5-d118-46ae-807f-af55770fe49a"
   },
   "outputs": [
    {
     "data": {
      "image/png": "[encoded data removed]",
      "text/plain": [
       "<Figure size 432x288 with 1 Axes>"
      ]
     },
     "metadata": {
      "needs_background": "light"
     },
     "output_type": "display_data"
    }
   ],
   "source": [
    "#Create Histogram to check distribution\n",
    "series['rho (g/m**3)'].hist(color='purple',edgecolor='black', linewidth=1.2)\n",
    "plt.xlabel('rho (g/m**3)')\n",
    "plt.title('AirTight Histogram')\n",
    "plt.grid(b=None)"
   ]
  },
  {
   "cell_type": "markdown",
   "metadata": {
    "colab_type": "text",
    "id": "zF-3y_-gzym4"
   },
   "source": [
    "The airtight (rho) distribution is closed to normal with ranges between 1066.19 and 1392.56."
   ]
  },
  {
   "cell_type": "code",
   "execution_count": 17,
   "metadata": {
    "colab": {
     "base_uri": "https://localhost:8080/",
     "height": 329
    },
    "colab_type": "code",
    "id": "6a2tqe2oH0bo",
    "outputId": "9db4cd60-9a16-45fc-8fdd-3a343f8db4a4"
   },
   "outputs": [
    {
     "name": "stderr",
     "output_type": "stream",
     "text": [
      "No handles with labels found to put in legend.\n"
     ]
    },
    {
     "data": {
      "text/plain": [
       "<matplotlib.legend.Legend at 0x148122a10>"
      ]
     },
     "execution_count": 17,
     "metadata": {},
     "output_type": "execute_result"
    },
    {
     "data": {
      "image/png": "[encoded data removed]",
      "text/plain": [
       "<Figure size 432x288 with 1 Axes>"
      ]
     },
     "metadata": {
      "needs_background": "light"
     },
     "output_type": "display_data"
    }
   ],
   "source": [
    "#Create Histogram to check distribution\n",
    "series['wd (deg)'].hist(color='orange', edgecolor='black', linewidth=1.2)\n",
    "plt.xlabel('wd (deg)')\n",
    "plt.grid(b=None)\n",
    "plt.title('Wind Direction Histogram')\n",
    "plt.legend()"
   ]
  },
  {
   "cell_type": "markdown",
   "metadata": {
    "colab_type": "text",
    "id": "088EFyPqz9tC"
   },
   "source": [
    "The wind direction (wd) has multimodal distribution with several peaks. The wd ranges between 0 and 360 degree."
   ]
  },
  {
   "cell_type": "markdown",
   "metadata": {},
   "source": [
    "---"
   ]
  },
  {
   "cell_type": "markdown",
   "metadata": {
    "colab_type": "text",
    "id": "So5W02yR0VOW"
   },
   "source": [
    "## <font color = blue>Data Extraction</font>\n",
    "\n",
    "Extract 4 features from the original dataset before performing data normalization"
   ]
  },
  {
   "cell_type": "code",
   "execution_count": 18,
   "metadata": {
    "colab": {
     "base_uri": "https://localhost:8080/",
     "height": 235
    },
    "colab_type": "code",
    "id": "USx7G3hIILJ-",
    "outputId": "e21ca8d7-6bca-4604-abee-46d19c88aa18"
   },
   "outputs": [
    {
     "data": {
      "text/html": [
       "<div>\n",
       "<style scoped>\n",
       "    .dataframe tbody tr th:only-of-type {\n",
       "        vertical-align: middle;\n",
       "    }\n",
       "\n",
       "    .dataframe tbody tr th {\n",
       "        vertical-align: top;\n",
       "    }\n",
       "\n",
       "    .dataframe thead th {\n",
       "        text-align: right;\n",
       "    }\n",
       "</style>\n",
       "<table border=\"1\" class=\"dataframe\">\n",
       "  <thead>\n",
       "    <tr style=\"text-align: right;\">\n",
       "      <th></th>\n",
       "      <th>p (mbar)</th>\n",
       "      <th>T (degC)</th>\n",
       "      <th>rho (g/m**3)</th>\n",
       "      <th>wd (deg)</th>\n",
       "    </tr>\n",
       "    <tr>\n",
       "      <th>Date Time</th>\n",
       "      <th></th>\n",
       "      <th></th>\n",
       "      <th></th>\n",
       "      <th></th>\n",
       "    </tr>\n",
       "  </thead>\n",
       "  <tbody>\n",
       "    <tr>\n",
       "      <td>01.01.2009 01:00:00</td>\n",
       "      <td>996.50</td>\n",
       "      <td>-8.05</td>\n",
       "      <td>1307.86</td>\n",
       "      <td>192.7</td>\n",
       "    </tr>\n",
       "    <tr>\n",
       "      <td>01.01.2009 02:00:00</td>\n",
       "      <td>996.62</td>\n",
       "      <td>-8.88</td>\n",
       "      <td>1312.25</td>\n",
       "      <td>190.3</td>\n",
       "    </tr>\n",
       "    <tr>\n",
       "      <td>01.01.2009 03:00:00</td>\n",
       "      <td>996.84</td>\n",
       "      <td>-8.81</td>\n",
       "      <td>1312.18</td>\n",
       "      <td>167.2</td>\n",
       "    </tr>\n",
       "    <tr>\n",
       "      <td>01.01.2009 04:00:00</td>\n",
       "      <td>996.99</td>\n",
       "      <td>-9.05</td>\n",
       "      <td>1313.61</td>\n",
       "      <td>240.0</td>\n",
       "    </tr>\n",
       "    <tr>\n",
       "      <td>01.01.2009 05:00:00</td>\n",
       "      <td>997.46</td>\n",
       "      <td>-9.63</td>\n",
       "      <td>1317.19</td>\n",
       "      <td>157.0</td>\n",
       "    </tr>\n",
       "  </tbody>\n",
       "</table>\n",
       "</div>"
      ],
      "text/plain": [
       "                     p (mbar)  T (degC)  rho (g/m**3)  wd (deg)\n",
       "Date Time                                                      \n",
       "01.01.2009 01:00:00    996.50     -8.05       1307.86     192.7\n",
       "01.01.2009 02:00:00    996.62     -8.88       1312.25     190.3\n",
       "01.01.2009 03:00:00    996.84     -8.81       1312.18     167.2\n",
       "01.01.2009 04:00:00    996.99     -9.05       1313.61     240.0\n",
       "01.01.2009 05:00:00    997.46     -9.63       1317.19     157.0"
      ]
     },
     "execution_count": 18,
     "metadata": {},
     "output_type": "execute_result"
    }
   ],
   "source": [
    "#Extract four features and saved to a new dataframe\n",
    "mydata = pd.read_csv('./climate_hour.csv')\n",
    "df = pd.DataFrame(mydata, index = None, columns = ['Date Time','p (mbar)', 'T (degC)', 'rho (g/m**3)', 'wd (deg)'])\n",
    "df = df.set_index('Date Time')\n",
    "df.head(5)"
   ]
  },
  {
   "cell_type": "markdown",
   "metadata": {},
   "source": [
    "---"
   ]
  },
  {
   "cell_type": "markdown",
   "metadata": {
    "colab_type": "text",
    "id": "lxoyzOo20n0t"
   },
   "source": [
    "## <font color = blue>Data Standardization using Z score </font>\n",
    "\n",
    "From the data exploration above, the data have to be normalized because all 4 features are on significantly different scales and contains some noises. Thus, each of 4 feature will be normalized using z-score, computed as: \n",
    "\n",
    "Standardized value = (value - mean)/(std)"
   ]
  },
  {
   "cell_type": "code",
   "execution_count": 19,
   "metadata": {
    "colab": {
     "base_uri": "https://localhost:8080/",
     "height": 102
    },
    "colab_type": "code",
    "id": "jjATaqh1JGEt",
    "outputId": "2f0951d7-b6f0-4b8f-db5b-83739413cab9"
   },
   "outputs": [
    {
     "name": "stdout",
     "output_type": "stream",
     "text": [
      "p (mbar)         989.214407\n",
      "T (degC)           9.441694\n",
      "rho (g/m**3)    1216.101047\n",
      "wd (deg)         174.943301\n",
      "dtype: float64\n"
     ]
    }
   ],
   "source": [
    "#find mean of each feature\n",
    "mean = df.mean()\n",
    "print(mean)"
   ]
  },
  {
   "cell_type": "code",
   "execution_count": 20,
   "metadata": {
    "colab": {
     "base_uri": "https://localhost:8080/",
     "height": 102
    },
    "colab_type": "code",
    "id": "-ILxoZTuJGEu",
    "outputId": "7911f070-02f1-4d1b-ed2b-2b204f8969d9"
   },
   "outputs": [
    {
     "name": "stdout",
     "output_type": "stream",
     "text": [
      "p (mbar)         8.360583\n",
      "T (degC)         8.420257\n",
      "rho (g/m**3)    39.964559\n",
      "wd (deg)        86.619521\n",
      "dtype: float64\n"
     ]
    }
   ],
   "source": [
    "#find standard diviation of each feature\n",
    "std = df.std()\n",
    "print(std)"
   ]
  },
  {
   "cell_type": "code",
   "execution_count": 21,
   "metadata": {
    "colab": {
     "base_uri": "https://localhost:8080/",
     "height": 235
    },
    "colab_type": "code",
    "id": "bdxne7tsI1Da",
    "outputId": "c8664caa-00b1-4532-f043-e426b31839fe"
   },
   "outputs": [
    {
     "data": {
      "text/html": [
       "<div>\n",
       "<style scoped>\n",
       "    .dataframe tbody tr th:only-of-type {\n",
       "        vertical-align: middle;\n",
       "    }\n",
       "\n",
       "    .dataframe tbody tr th {\n",
       "        vertical-align: top;\n",
       "    }\n",
       "\n",
       "    .dataframe thead th {\n",
       "        text-align: right;\n",
       "    }\n",
       "</style>\n",
       "<table border=\"1\" class=\"dataframe\">\n",
       "  <thead>\n",
       "    <tr style=\"text-align: right;\">\n",
       "      <th></th>\n",
       "      <th>p (mbar)</th>\n",
       "      <th>T (degC)</th>\n",
       "      <th>rho (g/m**3)</th>\n",
       "      <th>wd (deg)</th>\n",
       "    </tr>\n",
       "    <tr>\n",
       "      <th>Date Time</th>\n",
       "      <th></th>\n",
       "      <th></th>\n",
       "      <th></th>\n",
       "      <th></th>\n",
       "    </tr>\n",
       "  </thead>\n",
       "  <tbody>\n",
       "    <tr>\n",
       "      <td>01.01.2009 01:00:00</td>\n",
       "      <td>0.871422</td>\n",
       "      <td>-2.077335</td>\n",
       "      <td>2.296008</td>\n",
       "      <td>0.204997</td>\n",
       "    </tr>\n",
       "    <tr>\n",
       "      <td>01.01.2009 02:00:00</td>\n",
       "      <td>0.885775</td>\n",
       "      <td>-2.175907</td>\n",
       "      <td>2.405855</td>\n",
       "      <td>0.177289</td>\n",
       "    </tr>\n",
       "    <tr>\n",
       "      <td>01.01.2009 03:00:00</td>\n",
       "      <td>0.912089</td>\n",
       "      <td>-2.167593</td>\n",
       "      <td>2.404104</td>\n",
       "      <td>-0.089394</td>\n",
       "    </tr>\n",
       "    <tr>\n",
       "      <td>01.01.2009 04:00:00</td>\n",
       "      <td>0.930030</td>\n",
       "      <td>-2.196096</td>\n",
       "      <td>2.439886</td>\n",
       "      <td>0.751063</td>\n",
       "    </tr>\n",
       "    <tr>\n",
       "      <td>01.01.2009 05:00:00</td>\n",
       "      <td>0.986246</td>\n",
       "      <td>-2.264978</td>\n",
       "      <td>2.529465</td>\n",
       "      <td>-0.207151</td>\n",
       "    </tr>\n",
       "  </tbody>\n",
       "</table>\n",
       "</div>"
      ],
      "text/plain": [
       "                     p (mbar)  T (degC)  rho (g/m**3)  wd (deg)\n",
       "Date Time                                                      \n",
       "01.01.2009 01:00:00  0.871422 -2.077335      2.296008  0.204997\n",
       "01.01.2009 02:00:00  0.885775 -2.175907      2.405855  0.177289\n",
       "01.01.2009 03:00:00  0.912089 -2.167593      2.404104 -0.089394\n",
       "01.01.2009 04:00:00  0.930030 -2.196096      2.439886  0.751063\n",
       "01.01.2009 05:00:00  0.986246 -2.264978      2.529465 -0.207151"
      ]
     },
     "execution_count": 21,
     "metadata": {},
     "output_type": "execute_result"
    }
   ],
   "source": [
    "#Min-max normalization\n",
    "normalized_df=(df-mean)/(std)\n",
    "normalized_df.head(5)"
   ]
  },
  {
   "cell_type": "code",
   "execution_count": 22,
   "metadata": {
    "colab": {
     "base_uri": "https://localhost:8080/",
     "height": 297
    },
    "colab_type": "code",
    "id": "9dzjsj_pJIHG",
    "outputId": "94844af9-a521-4bdb-fea3-621ec1e60a3d"
   },
   "outputs": [
    {
     "data": {
      "text/html": [
       "<div>\n",
       "<style scoped>\n",
       "    .dataframe tbody tr th:only-of-type {\n",
       "        vertical-align: middle;\n",
       "    }\n",
       "\n",
       "    .dataframe tbody tr th {\n",
       "        vertical-align: top;\n",
       "    }\n",
       "\n",
       "    .dataframe thead th {\n",
       "        text-align: right;\n",
       "    }\n",
       "</style>\n",
       "<table border=\"1\" class=\"dataframe\">\n",
       "  <thead>\n",
       "    <tr style=\"text-align: right;\">\n",
       "      <th></th>\n",
       "      <th>p (mbar)</th>\n",
       "      <th>T (degC)</th>\n",
       "      <th>rho (g/m**3)</th>\n",
       "      <th>wd (deg)</th>\n",
       "    </tr>\n",
       "  </thead>\n",
       "  <tbody>\n",
       "    <tr>\n",
       "      <td>count</td>\n",
       "      <td>7.003700e+04</td>\n",
       "      <td>7.003700e+04</td>\n",
       "      <td>7.003700e+04</td>\n",
       "      <td>7.003700e+04</td>\n",
       "    </tr>\n",
       "    <tr>\n",
       "      <td>mean</td>\n",
       "      <td>1.462818e-13</td>\n",
       "      <td>-4.412926e-15</td>\n",
       "      <td>7.496437e-14</td>\n",
       "      <td>-1.293289e-14</td>\n",
       "    </tr>\n",
       "    <tr>\n",
       "      <td>std</td>\n",
       "      <td>1.000000e+00</td>\n",
       "      <td>1.000000e+00</td>\n",
       "      <td>1.000000e+00</td>\n",
       "      <td>1.000000e+00</td>\n",
       "    </tr>\n",
       "    <tr>\n",
       "      <td>min</td>\n",
       "      <td>-8.458071e+00</td>\n",
       "      <td>-3.824312e+00</td>\n",
       "      <td>-3.751100e+00</td>\n",
       "      <td>-2.019675e+00</td>\n",
       "    </tr>\n",
       "    <tr>\n",
       "      <td>25%</td>\n",
       "      <td>-5.997675e-01</td>\n",
       "      <td>-7.234570e-01</td>\n",
       "      <td>-7.141589e-01</td>\n",
       "      <td>-5.708101e-01</td>\n",
       "    </tr>\n",
       "    <tr>\n",
       "      <td>50%</td>\n",
       "      <td>4.372823e-02</td>\n",
       "      <td>-3.764014e-03</td>\n",
       "      <td>-5.632609e-02</td>\n",
       "      <td>2.708015e-01</td>\n",
       "    </tr>\n",
       "    <tr>\n",
       "      <td>75%</td>\n",
       "      <td>6.597140e-01</td>\n",
       "      <td>7.147414e-01</td>\n",
       "      <td>6.693168e-01</td>\n",
       "      <td>6.852578e-01</td>\n",
       "    </tr>\n",
       "    <tr>\n",
       "      <td>max</td>\n",
       "      <td>3.118873e+00</td>\n",
       "      <td>3.306111e+00</td>\n",
       "      <td>4.415386e+00</td>\n",
       "      <td>2.136432e+00</td>\n",
       "    </tr>\n",
       "  </tbody>\n",
       "</table>\n",
       "</div>"
      ],
      "text/plain": [
       "           p (mbar)      T (degC)  rho (g/m**3)      wd (deg)\n",
       "count  7.003700e+04  7.003700e+04  7.003700e+04  7.003700e+04\n",
       "mean   1.462818e-13 -4.412926e-15  7.496437e-14 -1.293289e-14\n",
       "std    1.000000e+00  1.000000e+00  1.000000e+00  1.000000e+00\n",
       "min   -8.458071e+00 -3.824312e+00 -3.751100e+00 -2.019675e+00\n",
       "25%   -5.997675e-01 -7.234570e-01 -7.141589e-01 -5.708101e-01\n",
       "50%    4.372823e-02 -3.764014e-03 -5.632609e-02  2.708015e-01\n",
       "75%    6.597140e-01  7.147414e-01  6.693168e-01  6.852578e-01\n",
       "max    3.118873e+00  3.306111e+00  4.415386e+00  2.136432e+00"
      ]
     },
     "execution_count": 22,
     "metadata": {},
     "output_type": "execute_result"
    }
   ],
   "source": [
    "#Statistics after normarization\n",
    "normalized_df.describe()"
   ]
  },
  {
   "cell_type": "markdown",
   "metadata": {
    "colab_type": "text",
    "id": "uRr6WCSl18Z4"
   },
   "source": [
    "#### The table ablove shows the statistics of 4 features (Z-scores): All features have a standard divation of 1 and a mean of 0 which confirms the normalized data has a normal distribution. "
   ]
  },
  {
   "cell_type": "markdown",
   "metadata": {},
   "source": [
    "---"
   ]
  },
  {
   "cell_type": "markdown",
   "metadata": {
    "colab_type": "text",
    "id": "XyAVwstMJGEz"
   },
   "source": [
    "## <font color = blue>Create X and Y Parts</font>\n",
    "X part 48 rolling window (t-47, t) and Y part (t+6)"
   ]
  },
  {
   "cell_type": "code",
   "execution_count": 23,
   "metadata": {
    "colab": {
     "base_uri": "https://localhost:8080/",
     "height": 102
    },
    "colab_type": "code",
    "id": "9XUJhT8jJGE0",
    "outputId": "aade25e0-b1e1-4fcd-f105-a780324b8d0d"
   },
   "outputs": [
    {
     "data": {
      "text/plain": [
       "array([[ 0.87142167, -2.07733488,  2.29600812,  0.2049965 ],\n",
       "       [ 0.88577474, -2.17590669,  2.40585545,  0.17728912],\n",
       "       [ 0.91208869, -2.16759341,  2.4041039 , -0.08939441],\n",
       "       [ 0.93003002, -2.1960961 ,  2.4398856 ,  0.75106279],\n",
       "       [ 0.98624619, -2.2649776 ,  2.52946497, -0.20715078]])"
      ]
     },
     "execution_count": 23,
     "metadata": {},
     "output_type": "execute_result"
    }
   ],
   "source": [
    "#Save normalized values \n",
    "df_values = normalized_df.values\n",
    "df_values[:5]"
   ]
  },
  {
   "cell_type": "code",
   "execution_count": 24,
   "metadata": {
    "colab": {},
    "colab_type": "code",
    "id": "B9DheTaaJGE1"
   },
   "outputs": [],
   "source": [
    "#Create X, Y part using rolling window \n",
    "# X Part = 48 rolling window (t-47, t)) and Y part (t+6)\n",
    "from numpy import array\n",
    "def split_sequence(sequence, n_steps):\n",
    "    X, y = list(), list()\n",
    "    for i in range(len(sequence)):\n",
    "        end_ix = i + n_steps #index for x\n",
    "        end_iy = end_ix + 5 #index for y \n",
    "        if end_ix > len(sequence)-1:\n",
    "            break\n",
    "        if end_iy > len(sequence)-1:\n",
    "            break\n",
    "        seq_x =[]\n",
    "        for row in sequence[i:end_ix]:\n",
    "            seq_x.append(row.item(0))\n",
    "            seq_x.append(row.item(1))\n",
    "            seq_x.append(row.item(2))\n",
    "            seq_x.append(row.item(3))\n",
    "        seq_y = [sequence[end_iy][1]]\n",
    "        X.append(seq_x)\n",
    "        y.append(seq_y)\n",
    "    return array(X), array(y)"
   ]
  },
  {
   "cell_type": "code",
   "execution_count": 25,
   "metadata": {
    "colab": {},
    "colab_type": "code",
    "id": "7F49DHsbJGE2"
   },
   "outputs": [],
   "source": [
    "X, y = split_sequence(df_values, 48)"
   ]
  },
  {
   "cell_type": "code",
   "execution_count": 26,
   "metadata": {
    "colab": {
     "base_uri": "https://localhost:8080/",
     "height": 34
    },
    "colab_type": "code",
    "id": "uCesN7wtJGE4",
    "outputId": "c37d45ec-98d9-40f3-9628-20adae015a26"
   },
   "outputs": [
    {
     "data": {
      "text/plain": [
       "(69984, 192)"
      ]
     },
     "execution_count": 26,
     "metadata": {},
     "output_type": "execute_result"
    }
   ],
   "source": [
    "X.shape"
   ]
  },
  {
   "cell_type": "code",
   "execution_count": 27,
   "metadata": {
    "colab": {
     "base_uri": "https://localhost:8080/",
     "height": 34
    },
    "colab_type": "code",
    "id": "3iRcPgM8JGE5",
    "outputId": "3b0e14f7-c988-406b-f29b-23b1cd63c75b"
   },
   "outputs": [
    {
     "data": {
      "text/plain": [
       "(69984, 1)"
      ]
     },
     "execution_count": 27,
     "metadata": {},
     "output_type": "execute_result"
    }
   ],
   "source": [
    "y.shape"
   ]
  },
  {
   "cell_type": "markdown",
   "metadata": {},
   "source": [
    "---"
   ]
  },
  {
   "cell_type": "markdown",
   "metadata": {
    "colab_type": "text",
    "id": "KZ4531kjJGE6"
   },
   "source": [
    "# <font color = blue>Split Dataset</font>"
   ]
  },
  {
   "cell_type": "markdown",
   "metadata": {
    "colab_type": "text",
    "id": "A54F6isd5kTi"
   },
   "source": [
    "### a.) Divided data into a training data (48,000 rows) and a test set (21,984 rows)"
   ]
  },
  {
   "cell_type": "code",
   "execution_count": 28,
   "metadata": {
    "colab": {},
    "colab_type": "code",
    "id": "aXr5pB5pJGE6"
   },
   "outputs": [],
   "source": [
    "#Divided data for train/test sets\n",
    "x_train_all = X[:48000]\n",
    "y_train_all = y[:48000]\n",
    "\n",
    "xtest = X[48000:]"
   ]
  },
  {
   "cell_type": "markdown",
   "metadata": {
    "colab_type": "text",
    "id": "vUxSkejS5qXt"
   },
   "source": [
    "### b.) Splitted the training data into 80% training set for fitting model and 20% validation set for evaluating model "
   ]
  },
  {
   "cell_type": "code",
   "execution_count": 29,
   "metadata": {
    "colab": {},
    "colab_type": "code",
    "id": "VWn-ijfRJGE8"
   },
   "outputs": [],
   "source": [
    "# 80% train, 20% validation, and by using stratefied sampling.  \n",
    "from sklearn.model_selection import train_test_split\n",
    "xtrain, xvalid, ytrain, yvalid = train_test_split(x_train_all, y_train_all,test_size=0.2, random_state=99)"
   ]
  },
  {
   "cell_type": "markdown",
   "metadata": {
    "colab_type": "text",
    "id": "GLyNskyJJGE9"
   },
   "source": [
    "### c.) ReShape for a correct dimesion"
   ]
  },
  {
   "cell_type": "code",
   "execution_count": 30,
   "metadata": {
    "colab": {
     "base_uri": "https://localhost:8080/",
     "height": 85
    },
    "colab_type": "code",
    "id": "4dTVTzFxJGE9",
    "outputId": "2bee3623-cbb1-40b3-c191-0dd00290582a"
   },
   "outputs": [
    {
     "name": "stdout",
     "output_type": "stream",
     "text": [
      "(38400, 192)\n",
      "(38400, 1)\n",
      "(9600, 192)\n",
      "(9600, 1)\n"
     ]
    }
   ],
   "source": [
    "print(xtrain.shape)\n",
    "print(ytrain.shape)\n",
    "print(xvalid.shape)\n",
    "print(yvalid.shape)"
   ]
  },
  {
   "cell_type": "code",
   "execution_count": 31,
   "metadata": {
    "colab": {},
    "colab_type": "code",
    "id": "xrHchuxrmehP"
   },
   "outputs": [],
   "source": [
    "y_train = ytrain.reshape(len(ytrain[:,0]),)\n",
    "y_valid = yvalid.reshape(len(yvalid[:,0]),)\n",
    "x_train = xtrain.reshape((xtrain.shape[0], 48, 4))\n",
    "x_valid = xvalid.reshape((xvalid.shape[0], 48, 4))\n",
    "x_test = xtest.reshape((xtest.shape[0], 48, 4))"
   ]
  },
  {
   "cell_type": "code",
   "execution_count": 32,
   "metadata": {
    "colab": {
     "base_uri": "https://localhost:8080/",
     "height": 85
    },
    "colab_type": "code",
    "id": "aagan1k3mhVk",
    "outputId": "89dee2f3-846b-4ea3-e5b1-1241a1fa9417"
   },
   "outputs": [
    {
     "name": "stdout",
     "output_type": "stream",
     "text": [
      "(38400, 48, 4)\n",
      "(38400,)\n",
      "(9600, 48, 4)\n",
      "(9600,)\n"
     ]
    }
   ],
   "source": [
    "print(x_train.shape)\n",
    "print(y_train.shape)\n",
    "print(x_valid.shape)\n",
    "print(y_valid.shape)"
   ]
  },
  {
   "cell_type": "markdown",
   "metadata": {},
   "source": [
    "---"
   ]
  },
  {
   "cell_type": "markdown",
   "metadata": {
    "colab_type": "text",
    "id": "wkWxfCNq-iXb"
   },
   "source": [
    "## <font color = blue>Model Development and Hyperparameter Tuning</font>\n",
    "The base model was developed with LSTM. One Hyperparmeter is tuned in each step and model evaluation using MAE loss was performed to check the improvement. The best model was selected regarding its performance on loss convergence, overfitting, and time taken to fit the model. The best model is in the last page. The best model was used to  forcast a weather for the test set and submitted the predicted value to Kaggle."
   ]
  },
  {
   "cell_type": "markdown",
   "metadata": {
    "colab_type": "text",
    "id": "KQNWYOCnJGE_"
   },
   "source": [
    "## a.) Baseline Model "
   ]
  },
  {
   "cell_type": "code",
   "execution_count": 33,
   "metadata": {
    "colab": {
     "base_uri": "https://localhost:8080/",
     "height": 255
    },
    "colab_type": "code",
    "id": "s33gEDk-JGE_",
    "outputId": "607255bb-9cb7-4c10-a256-42e1a5ade8d3"
   },
   "outputs": [
    {
     "name": "stderr",
     "output_type": "stream",
     "text": [
      "Using TensorFlow backend.\n"
     ]
    },
    {
     "name": "stdout",
     "output_type": "stream",
     "text": [
      "Model: \"sequential_1\"\n",
      "_________________________________________________________________\n",
      "Layer (type)                 Output Shape              Param #   \n",
      "=================================================================\n",
      "lstm_1 (LSTM)                (None, 48, 100)           42000     \n",
      "_________________________________________________________________\n",
      "lstm_2 (LSTM)                (None, 100)               80400     \n",
      "_________________________________________________________________\n",
      "dense_1 (Dense)              (None, 1)                 101       \n",
      "=================================================================\n",
      "Total params: 122,501\n",
      "Trainable params: 122,501\n",
      "Non-trainable params: 0\n",
      "_________________________________________________________________\n"
     ]
    }
   ],
   "source": [
    "#Build the model 1\n",
    "from keras.models import Sequential \n",
    "from keras.layers import *\n",
    "from keras import optimizers\n",
    "model1 = Sequential()\n",
    "model1.add(LSTM(100, activation='relu', return_sequences=True, input_shape=(48, 4)))\n",
    "model1.add(LSTM(100, activation='relu'))\n",
    "model1.add(Dense(1))\n",
    "model1.summary()"
   ]
  },
  {
   "cell_type": "code",
   "execution_count": 21,
   "metadata": {
    "colab": {
     "base_uri": "https://localhost:8080/",
     "height": 394
    },
    "colab_type": "code",
    "id": "5gZ9s0MlJGFB",
    "outputId": "d6263449-5180-4ed9-a20d-52aaba75b25a"
   },
   "outputs": [
    {
     "name": "stdout",
     "output_type": "stream",
     "text": [
      "Train on 38400 samples, validate on 9600 samples\n",
      "Epoch 1/100\n",
      "38400/38400 [==============================] - 82s 2ms/step - loss: 0.2700 - val_loss: 0.2055\n",
      "Epoch 2/100\n",
      "38400/38400 [==============================] - 80s 2ms/step - loss: 0.2063 - val_loss: 0.2071\n",
      "Epoch 3/100\n",
      "38400/38400 [==============================] - 80s 2ms/step - loss: 0.1959 - val_loss: 0.1888\n",
      "Epoch 4/100\n",
      "38400/38400 [==============================] - 81s 2ms/step - loss: 0.1913 - val_loss: 0.1954\n",
      "Epoch 5/100\n",
      "38400/38400 [==============================] - 81s 2ms/step - loss: 0.1850 - val_loss: 0.1915\n",
      "Epoch 6/100\n",
      "38400/38400 [==============================] - 80s 2ms/step - loss: 0.1807 - val_loss: 0.1870\n",
      "Epoch 7/100\n",
      "38400/38400 [==============================] - 81s 2ms/step - loss: 0.1774 - val_loss: 0.1739\n",
      "Epoch 8/100\n",
      "38400/38400 [==============================] - 81s 2ms/step - loss: 0.1736 - val_loss: 0.1839\n",
      "Epoch 9/100\n",
      "38400/38400 [==============================] - 81s 2ms/step - loss: 0.1707 - val_loss: 0.1716\n",
      "Epoch 10/100\n",
      "38400/38400 [==============================] - 81s 2ms/step - loss: 0.1673 - val_loss: 0.1651\n",
      "Epoch 11/100\n",
      "38400/38400 [==============================] - 84s 2ms/step - loss: 0.1648 - val_loss: 0.1646\n",
      "Epoch 12/100\n",
      "38400/38400 [==============================] - 84s 2ms/step - loss: 0.1624 - val_loss: 0.1669\n",
      "Epoch 13/100\n",
      "38400/38400 [==============================] - 84s 2ms/step - loss: 0.1585 - val_loss: 0.1604\n",
      "Epoch 14/100\n",
      "38400/38400 [==============================] - 85s 2ms/step - loss: 0.1564 - val_loss: 0.1618\n",
      "Epoch 15/100\n",
      "38400/38400 [==============================] - 85s 2ms/step - loss: 0.1540 - val_loss: 0.1563\n",
      "Epoch 16/100\n",
      "38400/38400 [==============================] - 85s 2ms/step - loss: 0.1506 - val_loss: 0.1579\n",
      "Epoch 17/100\n",
      "38400/38400 [==============================] - 86s 2ms/step - loss: 0.1481 - val_loss: 0.1519\n",
      "Epoch 18/100\n",
      "38400/38400 [==============================] - 87s 2ms/step - loss: 0.1449 - val_loss: 0.1487\n",
      "Epoch 19/100\n",
      "38400/38400 [==============================] - 87s 2ms/step - loss: 0.1427 - val_loss: 0.1543\n",
      "Epoch 20/100\n",
      "38400/38400 [==============================] - 86s 2ms/step - loss: 0.1392 - val_loss: 0.1466\n",
      "Epoch 21/100\n",
      "38400/38400 [==============================] - 87s 2ms/step - loss: 0.1365 - val_loss: 0.1474\n",
      "Epoch 22/100\n",
      "38400/38400 [==============================] - 86s 2ms/step - loss: 0.1338 - val_loss: 0.1399\n",
      "Epoch 23/100\n",
      "38400/38400 [==============================] - 85s 2ms/step - loss: 0.1310 - val_loss: 0.1373\n",
      "Epoch 24/100\n",
      "38400/38400 [==============================] - 86s 2ms/step - loss: 0.1278 - val_loss: 0.1391\n",
      "Epoch 25/100\n",
      "38400/38400 [==============================] - 86s 2ms/step - loss: 0.1263 - val_loss: 0.1354\n",
      "Epoch 26/100\n",
      "38400/38400 [==============================] - 86s 2ms/step - loss: 0.1234 - val_loss: 0.1382\n",
      "Epoch 27/100\n",
      "38400/38400 [==============================] - 87s 2ms/step - loss: 0.1206 - val_loss: 0.1334\n",
      "Epoch 28/100\n",
      "38400/38400 [==============================] - 87s 2ms/step - loss: 0.1179 - val_loss: 0.1316\n",
      "Epoch 29/100\n",
      "38400/38400 [==============================] - 87s 2ms/step - loss: 0.1152 - val_loss: 0.1285\n",
      "Epoch 30/100\n",
      "38400/38400 [==============================] - 88s 2ms/step - loss: 0.1131 - val_loss: 0.1265\n",
      "Epoch 31/100\n",
      "38400/38400 [==============================] - 88s 2ms/step - loss: 0.1105 - val_loss: 0.1246\n",
      "Epoch 32/100\n",
      "38400/38400 [==============================] - 87s 2ms/step - loss: 0.1086 - val_loss: 0.1249\n",
      "Epoch 33/100\n",
      "38400/38400 [==============================] - 89s 2ms/step - loss: 0.1064 - val_loss: 0.1244\n",
      "Epoch 34/100\n",
      "38400/38400 [==============================] - 89s 2ms/step - loss: 0.1042 - val_loss: 0.1178\n",
      "Epoch 35/100\n",
      "38400/38400 [==============================] - 88s 2ms/step - loss: 0.1025 - val_loss: 0.1187\n",
      "Epoch 36/100\n",
      "38400/38400 [==============================] - 88s 2ms/step - loss: 0.0999 - val_loss: 0.1148\n",
      "Epoch 37/100\n",
      "38400/38400 [==============================] - 88s 2ms/step - loss: 0.0976 - val_loss: 0.1125\n",
      "Epoch 38/100\n",
      "38400/38400 [==============================] - 87s 2ms/step - loss: 0.0964 - val_loss: 0.1117\n",
      "Epoch 39/100\n",
      "38400/38400 [==============================] - 87s 2ms/step - loss: 0.0946 - val_loss: 0.1093\n",
      "Epoch 40/100\n",
      "38400/38400 [==============================] - 88s 2ms/step - loss: 0.0926 - val_loss: 0.1090\n",
      "Epoch 41/100\n",
      "38400/38400 [==============================] - 88s 2ms/step - loss: 0.0913 - val_loss: 0.1059\n",
      "Epoch 42/100\n",
      "38400/38400 [==============================] - 89s 2ms/step - loss: 0.0889 - val_loss: 0.1022\n",
      "Epoch 43/100\n",
      "38400/38400 [==============================] - 89s 2ms/step - loss: 0.0878 - val_loss: 0.1040\n",
      "Epoch 44/100\n",
      "38400/38400 [==============================] - 88s 2ms/step - loss: 0.0861 - val_loss: 0.1081\n",
      "Epoch 45/100\n",
      "38400/38400 [==============================] - 89s 2ms/step - loss: 0.0851 - val_loss: 0.1026\n",
      "Epoch 46/100\n",
      "38400/38400 [==============================] - 89s 2ms/step - loss: 0.0836 - val_loss: 0.1002\n",
      "Epoch 47/100\n",
      "38400/38400 [==============================] - 89s 2ms/step - loss: 0.0827 - val_loss: 0.1001\n",
      "Epoch 48/100\n",
      "38400/38400 [==============================] - 89s 2ms/step - loss: 0.0810 - val_loss: 0.0987\n",
      "Epoch 49/100\n",
      "38400/38400 [==============================] - 88s 2ms/step - loss: 0.0804 - val_loss: 0.0971\n",
      "Epoch 50/100\n",
      "38400/38400 [==============================] - 88s 2ms/step - loss: 0.0788 - val_loss: 0.0967\n",
      "Epoch 51/100\n",
      "38400/38400 [==============================] - 88s 2ms/step - loss: 0.0780 - val_loss: 0.0948\n",
      "Epoch 52/100\n",
      "38400/38400 [==============================] - 89s 2ms/step - loss: 0.0762 - val_loss: 0.0929\n",
      "Epoch 53/100\n",
      "38400/38400 [==============================] - 88s 2ms/step - loss: 0.0758 - val_loss: 0.0937\n",
      "Epoch 54/100\n",
      "38400/38400 [==============================] - 89s 2ms/step - loss: 0.0746 - val_loss: 0.0923\n",
      "Epoch 55/100\n",
      "38400/38400 [==============================] - 88s 2ms/step - loss: 0.0735 - val_loss: 0.0940\n",
      "Epoch 56/100\n",
      "38400/38400 [==============================] - 89s 2ms/step - loss: 0.0733 - val_loss: 0.0936\n",
      "Epoch 57/100\n",
      "38400/38400 [==============================] - 89s 2ms/step - loss: 0.0722 - val_loss: 0.0897\n",
      "Epoch 58/100\n",
      "38400/38400 [==============================] - 89s 2ms/step - loss: 0.0709 - val_loss: 0.0892\n",
      "Epoch 59/100\n",
      "38400/38400 [==============================] - 89s 2ms/step - loss: 0.0704 - val_loss: 0.0861\n",
      "Epoch 60/100\n",
      "38400/38400 [==============================] - 89s 2ms/step - loss: 0.0703 - val_loss: 0.0879\n",
      "Epoch 61/100\n",
      "38400/38400 [==============================] - 89s 2ms/step - loss: 0.0689 - val_loss: 0.0875\n",
      "Epoch 62/100\n",
      "38400/38400 [==============================] - 89s 2ms/step - loss: 0.0684 - val_loss: 0.0863\n",
      "Epoch 63/100\n",
      "38400/38400 [==============================] - 90s 2ms/step - loss: 0.0678 - val_loss: 0.0865\n",
      "Epoch 64/100\n",
      "38400/38400 [==============================] - 89s 2ms/step - loss: 0.0670 - val_loss: 0.0874\n",
      "Epoch 65/100\n",
      "38400/38400 [==============================] - 90s 2ms/step - loss: 0.0664 - val_loss: 0.0853\n",
      "Epoch 66/100\n",
      "38400/38400 [==============================] - 90s 2ms/step - loss: 0.0653 - val_loss: 0.0830\n",
      "Epoch 67/100\n",
      "38400/38400 [==============================] - 90s 2ms/step - loss: 0.0649 - val_loss: 0.0851\n",
      "Epoch 68/100\n",
      "38400/38400 [==============================] - 89s 2ms/step - loss: 0.0643 - val_loss: 0.0842\n",
      "Epoch 69/100\n",
      "38400/38400 [==============================] - 90s 2ms/step - loss: 0.0635 - val_loss: 0.0822\n",
      "Epoch 70/100\n",
      "38400/38400 [==============================] - 90s 2ms/step - loss: 0.0632 - val_loss: 0.0855\n",
      "Epoch 71/100\n",
      "38400/38400 [==============================] - 90s 2ms/step - loss: 0.0629 - val_loss: 0.0816\n",
      "Epoch 72/100\n",
      "38400/38400 [==============================] - 89s 2ms/step - loss: 0.0618 - val_loss: 0.0796\n",
      "Epoch 73/100\n",
      "38400/38400 [==============================] - 89s 2ms/step - loss: 0.0618 - val_loss: 0.0831\n",
      "Epoch 74/100\n",
      "38400/38400 [==============================] - 90s 2ms/step - loss: 0.0615 - val_loss: 0.0801\n",
      "Epoch 75/100\n",
      "38400/38400 [==============================] - 91s 2ms/step - loss: 0.0606 - val_loss: 0.0785\n",
      "Epoch 76/100\n",
      "38400/38400 [==============================] - 90s 2ms/step - loss: 0.0603 - val_loss: 0.0786\n",
      "Epoch 77/100\n",
      "38400/38400 [==============================] - 87s 2ms/step - loss: 0.0597 - val_loss: 0.0760\n",
      "Epoch 78/100\n",
      "38400/38400 [==============================] - 87s 2ms/step - loss: 0.0593 - val_loss: 0.0796\n",
      "Epoch 79/100\n",
      "38400/38400 [==============================] - 87s 2ms/step - loss: 0.0592 - val_loss: 0.0805\n",
      "Epoch 80/100\n",
      "38400/38400 [==============================] - 86s 2ms/step - loss: 0.0591 - val_loss: 0.0787\n",
      "Epoch 81/100\n",
      "38400/38400 [==============================] - 88s 2ms/step - loss: 0.0582 - val_loss: 0.0754\n",
      "Epoch 82/100\n",
      "38400/38400 [==============================] - 87s 2ms/step - loss: 0.0577 - val_loss: 0.0770\n",
      "Epoch 83/100\n",
      "38400/38400 [==============================] - 88s 2ms/step - loss: 0.0574 - val_loss: 0.0779\n",
      "Epoch 84/100\n",
      "38400/38400 [==============================] - 87s 2ms/step - loss: 0.0568 - val_loss: 0.0772\n",
      "Epoch 85/100\n",
      "38400/38400 [==============================] - 87s 2ms/step - loss: 0.0561 - val_loss: 0.0762\n",
      "Epoch 86/100\n",
      "38400/38400 [==============================] - 87s 2ms/step - loss: 0.0562 - val_loss: 0.0746\n",
      "Epoch 87/100\n",
      "38400/38400 [==============================] - 87s 2ms/step - loss: 0.0558 - val_loss: 0.0749\n",
      "Epoch 88/100\n",
      "38400/38400 [==============================] - 87s 2ms/step - loss: 0.0557 - val_loss: 0.0755\n",
      "Epoch 89/100\n",
      "38400/38400 [==============================] - 88s 2ms/step - loss: 0.0553 - val_loss: 0.0724\n",
      "Epoch 90/100\n",
      "38400/38400 [==============================] - 89s 2ms/step - loss: 0.0549 - val_loss: 0.0729\n",
      "Epoch 91/100\n",
      "38400/38400 [==============================] - 91s 2ms/step - loss: 0.0549 - val_loss: 0.0748\n",
      "Epoch 92/100\n",
      "38400/38400 [==============================] - 90s 2ms/step - loss: 0.0542 - val_loss: 0.0726\n",
      "Epoch 93/100\n",
      "38400/38400 [==============================] - 94s 2ms/step - loss: 0.0537 - val_loss: 0.0734\n",
      "Epoch 94/100\n",
      "38400/38400 [==============================] - 93s 2ms/step - loss: 0.0536 - val_loss: 0.0727\n",
      "Epoch 95/100\n",
      "38400/38400 [==============================] - 95s 2ms/step - loss: 0.0531 - val_loss: 0.0728\n",
      "Epoch 96/100\n",
      "38400/38400 [==============================] - 96s 3ms/step - loss: 0.0530 - val_loss: 0.0723\n",
      "Epoch 97/100\n",
      "38400/38400 [==============================] - 97s 3ms/step - loss: 0.0525 - val_loss: 0.0729\n",
      "Epoch 98/100\n",
      "38400/38400 [==============================] - 96s 3ms/step - loss: 0.0522 - val_loss: 0.0734\n",
      "Epoch 99/100\n",
      "38400/38400 [==============================] - 94s 2ms/step - loss: 0.0522 - val_loss: 0.0726\n",
      "Epoch 100/100\n",
      "38400/38400 [==============================] - 94s 2ms/step - loss: 0.0521 - val_loss: 0.0738\n"
     ]
    }
   ],
   "source": [
    "#compile the model\n",
    "model1.compile(optimizer='adam', loss='mae')\n",
    "#fit 1model and save tranining results\n",
    "history1 = model1.fit(x_train, y_train, batch_size =32,epochs=100, validation_data=(x_valid, y_valid))"
   ]
  },
  {
   "cell_type": "code",
   "execution_count": 22,
   "metadata": {
    "colab": {
     "base_uri": "https://localhost:8080/",
     "height": 51
    },
    "colab_type": "code",
    "id": "kdbKxoCXJGFE",
    "outputId": "e6275518-f51e-4b0d-e629-866e53bcf079"
   },
   "outputs": [
    {
     "name": "stdout",
     "output_type": "stream",
     "text": [
      "9600/9600 [==============================] - 5s 479us/step\n",
      "valid_loss=0.07377413413176934\n"
     ]
    }
   ],
   "source": [
    "# Evaluate model\n",
    "valid_loss1 = model1.evaluate(x_valid, y_valid) \n",
    "print (\"valid_loss=%s\" % (valid_loss1))"
   ]
  },
  {
   "cell_type": "code",
   "execution_count": 23,
   "metadata": {
    "colab": {},
    "colab_type": "code",
    "id": "2BRYBR_aKeQS"
   },
   "outputs": [],
   "source": [
    "#make predictions\n",
    "preds1= model1.predict(x_test)\n",
    "preds1_renorm = (preds1*std[1]) + mean[1]"
   ]
  },
  {
   "cell_type": "code",
   "execution_count": 25,
   "metadata": {
    "colab": {},
    "colab_type": "code",
    "id": "mIOVNCqgzpcZ"
   },
   "outputs": [],
   "source": [
    "def plotLoss(history):\n",
    "    plt.plot(history.history['loss'], label='train_loss') # For TF2\n",
    "    plt.plot(history.history['val_loss'], label = 'valid_loss') # For TF2\n",
    "    plt.xlabel('Epoch')\n",
    "    plt.ylabel('loss')\n",
    "    plt.ylim([0.0, 0.5])\n",
    "    plt.legend(loc='lower right')"
   ]
  },
  {
   "cell_type": "code",
   "execution_count": 26,
   "metadata": {
    "colab": {
     "base_uri": "https://localhost:8080/",
     "height": 283
    },
    "colab_type": "code",
    "id": "keLdlcGkLSQ8",
    "outputId": "4a752f30-85f8-4186-ca7d-0c74be08c4de"
   },
   "outputs": [
    {
     "data": {
      "image/png": "[encoded data removed]",
      "text/plain": [
       "<Figure size 432x288 with 1 Axes>"
      ]
     },
     "metadata": {
      "needs_background": "light"
     },
     "output_type": "display_data"
    }
   ],
   "source": [
    "#Plot MAE Loss Graph\n",
    "plotLoss(history1)"
   ]
  },
  {
   "cell_type": "markdown",
   "metadata": {},
   "source": [
    "From the baseline model, the model starts to overfit and fluctuate after epoch 20, so we need to add dropout in the later experiments if we want to train the network longer."
   ]
  },
  {
   "cell_type": "markdown",
   "metadata": {
    "colab_type": "text",
    "id": "Kb3i3ea79mDI"
   },
   "source": [
    "## b.) Model 2 (add recurrent units)"
   ]
  },
  {
   "cell_type": "code",
   "execution_count": 71,
   "metadata": {
    "colab": {
     "base_uri": "https://localhost:8080/",
     "height": 255
    },
    "colab_type": "code",
    "id": "MWyK0qlEjrl6",
    "outputId": "8b1b2b9e-bd9b-4e4b-b37b-6ee0bb2c1bce"
   },
   "outputs": [
    {
     "name": "stdout",
     "output_type": "stream",
     "text": [
      "Model: \"sequential_8\"\n",
      "_________________________________________________________________\n",
      "Layer (type)                 Output Shape              Param #   \n",
      "=================================================================\n",
      "lstm_15 (LSTM)               (None, 48, 256)           267264    \n",
      "_________________________________________________________________\n",
      "lstm_16 (LSTM)               (None, 256)               525312    \n",
      "_________________________________________________________________\n",
      "dense_12 (Dense)             (None, 1)                 257       \n",
      "=================================================================\n",
      "Total params: 792,833\n",
      "Trainable params: 792,833\n",
      "Non-trainable params: 0\n",
      "_________________________________________________________________\n"
     ]
    }
   ],
   "source": [
    "##Build the model 2\n",
    "from keras.models import Sequential \n",
    "from keras.layers import *\n",
    "from keras import optimizers\n",
    "model2 = Sequential()\n",
    "model2.add(LSTM(256, activation='relu', return_sequences=True, input_shape=(48, 4)))\n",
    "model2.add(LSTM(256, activation='relu'))\n",
    "model2.add(Dense(1))\n",
    "model2.summary()"
   ]
  },
  {
   "cell_type": "code",
   "execution_count": 73,
   "metadata": {
    "colab": {
     "base_uri": "https://localhost:8080/",
     "height": 394
    },
    "colab_type": "code",
    "id": "c-kqcMcfmW7s",
    "outputId": "c71d9f03-8a50-4345-bbcb-b6ebc26344ed"
   },
   "outputs": [
    {
     "name": "stdout",
     "output_type": "stream",
     "text": [
      "Train on 38400 samples, validate on 9600 samples\n",
      "Epoch 1/10\n",
      "38400/38400 [==============================] - 480s 12ms/step - loss: 0.2253 - val_loss: 0.2017\n",
      "Epoch 2/10\n",
      "38400/38400 [==============================] - 473s 12ms/step - loss: 0.1971 - val_loss: 0.1859\n",
      "Epoch 3/10\n",
      "38400/38400 [==============================] - 472s 12ms/step - loss: 0.1882 - val_loss: 0.1826\n",
      "Epoch 4/10\n",
      "38400/38400 [==============================] - 485s 13ms/step - loss: 0.1824 - val_loss: 0.1833\n",
      "Epoch 5/10\n",
      "38400/38400 [==============================] - 502s 13ms/step - loss: 0.1764 - val_loss: 0.1835\n",
      "Epoch 6/10\n",
      "38400/38400 [==============================] - 503s 13ms/step - loss: 0.1719 - val_loss: 0.1696\n",
      "Epoch 7/10\n",
      "38400/38400 [==============================] - 515s 13ms/step - loss: 0.1680 - val_loss: 0.1637\n",
      "Epoch 8/10\n",
      "38400/38400 [==============================] - 503s 13ms/step - loss: 0.1641 - val_loss: 0.1635\n",
      "Epoch 9/10\n",
      "38400/38400 [==============================] - 471s 12ms/step - loss: 0.1606 - val_loss: 0.1627\n",
      "Epoch 10/10\n",
      "38400/38400 [==============================] - 468s 12ms/step - loss: 0.1564 - val_loss: 0.1632\n"
     ]
    }
   ],
   "source": [
    "#compile model2\n",
    "model2.compile(optimizer='adam', loss='mae')\n",
    "#fit model2 and save tranining results\n",
    "history2 = model2.fit(x_train, y_train, batch_size =32,epochs=10, validation_data=(x_valid, y_valid))"
   ]
  },
  {
   "cell_type": "code",
   "execution_count": 74,
   "metadata": {
    "colab": {
     "base_uri": "https://localhost:8080/",
     "height": 51
    },
    "colab_type": "code",
    "id": "2KMNIduCqr30",
    "outputId": "308d38dd-c7eb-42ac-bdbd-62b9f3161648"
   },
   "outputs": [
    {
     "name": "stdout",
     "output_type": "stream",
     "text": [
      "9600/9600 [==============================] - 30s 3ms/step\n",
      "valid_loss=0.1632179909447829\n"
     ]
    }
   ],
   "source": [
    "# Evaluate model \n",
    "valid_loss2 = model2.evaluate(x_valid, y_valid, verbose=1) \n",
    "print (\"valid_loss=%s\" % (valid_loss2))"
   ]
  },
  {
   "cell_type": "code",
   "execution_count": 78,
   "metadata": {
    "colab": {},
    "colab_type": "code",
    "id": "M1zZ2Fglmp7A"
   },
   "outputs": [],
   "source": [
    "#make predictions\n",
    "preds2= model2.predict(x_test)\n",
    "preds2_renorm = (preds2*std[1]) + mean[1]"
   ]
  },
  {
   "cell_type": "code",
   "execution_count": 75,
   "metadata": {
    "colab": {
     "base_uri": "https://localhost:8080/",
     "height": 283
    },
    "colab_type": "code",
    "id": "r453Wi2K7tYQ",
    "outputId": "8d19c2ad-6984-45f0-8f0f-7a4fe1ac9e5c"
   },
   "outputs": [
    {
     "data": {
      "image/png": "[encoded data removed]",
      "text/plain": [
       "<Figure size 432x288 with 1 Axes>"
      ]
     },
     "metadata": {
      "needs_background": "light"
     },
     "output_type": "display_data"
    }
   ],
   "source": [
    "# Plot MAE Loss \n",
    "plotLoss(history2)"
   ]
  },
  {
   "cell_type": "markdown",
   "metadata": {},
   "source": [
    "From the second model, the model with 256 units performs a little bit better than 100 units but takes 4 time longer. So, we will other options to improve the model such as adding layer wrapper Bidirection."
   ]
  },
  {
   "cell_type": "markdown",
   "metadata": {
    "colab_type": "text",
    "id": "rXKDqbvB96Ei"
   },
   "source": [
    "## c.) Model 3 (Add Bidirectional LSTM)"
   ]
  },
  {
   "cell_type": "code",
   "execution_count": 81,
   "metadata": {
    "colab": {
     "base_uri": "https://localhost:8080/",
     "height": 394
    },
    "colab_type": "code",
    "id": "OZU0iFiQsuwt",
    "outputId": "0d64cd85-d364-4ea4-b8a5-9de9054c5083"
   },
   "outputs": [],
   "source": [
    "##Build, compile, and fit model 3\n",
    "from keras.models import Sequential \n",
    "from keras.layers import *\n",
    "from keras import optimizers\n",
    "model3 = Sequential()\n",
    "model3.add(Bidirectional(LSTM(256, return_sequences=True, input_shape=(48, 4))))\n",
    "model3.add(Bidirectional(LSTM(256)))\n",
    "model3.add(Dense(1))"
   ]
  },
  {
   "cell_type": "code",
   "execution_count": 83,
   "metadata": {
    "colab": {
     "base_uri": "https://localhost:8080/",
     "height": 255
    },
    "colab_type": "code",
    "id": "0DqRr7az6DmE",
    "outputId": "020698b0-732b-457e-bfc3-e4f822e866c5"
   },
   "outputs": [
    {
     "name": "stdout",
     "output_type": "stream",
     "text": [
      "Model: \"sequential_9\"\n",
      "_________________________________________________________________\n",
      "Layer (type)                 Output Shape              Param #   \n",
      "=================================================================\n",
      "bidirectional_1 (Bidirection (None, 48, 512)           534528    \n",
      "_________________________________________________________________\n",
      "bidirectional_2 (Bidirection (None, 512)               1574912   \n",
      "_________________________________________________________________\n",
      "dense_13 (Dense)             (None, 1)                 513       \n",
      "=================================================================\n",
      "Total params: 2,109,953\n",
      "Trainable params: 2,109,953\n",
      "Non-trainable params: 0\n",
      "_________________________________________________________________\n"
     ]
    }
   ],
   "source": [
    "model3.summary()"
   ]
  },
  {
   "cell_type": "code",
   "execution_count": 82,
   "metadata": {},
   "outputs": [
    {
     "name": "stdout",
     "output_type": "stream",
     "text": [
      "Train on 38400 samples, validate on 9600 samples\n",
      "Epoch 1/10\n",
      "38400/38400 [==============================] - 1190s 31ms/step - loss: 0.2289 - val_loss: 0.2051\n",
      "Epoch 2/10\n",
      "38400/38400 [==============================] - 986s 26ms/step - loss: 0.2002 - val_loss: 0.1835\n",
      "Epoch 3/10\n",
      "38400/38400 [==============================] - 985s 26ms/step - loss: 0.1926 - val_loss: 0.1881\n",
      "Epoch 4/10\n",
      "38400/38400 [==============================] - 993s 26ms/step - loss: 0.1850 - val_loss: 0.1747\n",
      "Epoch 5/10\n",
      "38400/38400 [==============================] - 1002s 26ms/step - loss: 0.1800 - val_loss: 0.1846\n",
      "Epoch 6/10\n",
      "38400/38400 [==============================] - 973s 25ms/step - loss: 0.1754 - val_loss: 0.1794\n",
      "Epoch 7/10\n",
      "38400/38400 [==============================] - 974s 25ms/step - loss: 0.1708 - val_loss: 0.1702\n",
      "Epoch 8/10\n",
      "38400/38400 [==============================] - 975s 25ms/step - loss: 0.1676 - val_loss: 0.1681\n",
      "Epoch 9/10\n",
      "38400/38400 [==============================] - 978s 25ms/step - loss: 0.1631 - val_loss: 0.1647\n",
      "Epoch 10/10\n",
      "38400/38400 [==============================] - 985s 26ms/step - loss: 0.1604 - val_loss: 0.1632\n"
     ]
    }
   ],
   "source": [
    "model3.compile(optimizer='adam', loss='mae')\n",
    "history3 = model3.fit(x_train, y_train, batch_size =32,epochs=10, validation_data=(x_valid, y_valid))"
   ]
  },
  {
   "cell_type": "code",
   "execution_count": 84,
   "metadata": {
    "colab": {
     "base_uri": "https://localhost:8080/",
     "height": 51
    },
    "colab_type": "code",
    "id": "N1zawoCMG6dh",
    "outputId": "fc9570a2-1f21-40aa-b46f-8d878e33c14b"
   },
   "outputs": [
    {
     "name": "stdout",
     "output_type": "stream",
     "text": [
      "9600/9600 [==============================] - 74s 8ms/step\n",
      "valid_loss=0.16316604390740394\n"
     ]
    }
   ],
   "source": [
    "# Evaluate model \n",
    "valid_loss3 = model3.evaluate(x_valid, y_valid, verbose=1) \n",
    "print (\"valid_loss=%s\" % (valid_loss3))"
   ]
  },
  {
   "cell_type": "code",
   "execution_count": 87,
   "metadata": {},
   "outputs": [],
   "source": [
    "#make predictions\n",
    "preds3= model3.predict(x_test)\n",
    "preds3_renorm = (preds3*std[1]) + mean[1]"
   ]
  },
  {
   "cell_type": "code",
   "execution_count": 85,
   "metadata": {
    "colab": {
     "base_uri": "https://localhost:8080/",
     "height": 283
    },
    "colab_type": "code",
    "id": "fVVUcXxGGxwF",
    "outputId": "dca0e0b8-d147-47be-fe1a-9062a02e9e00"
   },
   "outputs": [
    {
     "data": {
      "image/png": "[encoded data removed]",
      "text/plain": [
       "<Figure size 432x288 with 1 Axes>"
      ]
     },
     "metadata": {
      "needs_background": "light"
     },
     "output_type": "display_data"
    }
   ],
   "source": [
    "# Plot MAE Loss \n",
    "plotLoss(history3)"
   ]
  },
  {
   "cell_type": "markdown",
   "metadata": {},
   "source": [
    "From the third model, the model with performs a better with BLSTM. So, we will use it to improve the modeland will will add the dropout in the next expirement to solve the overfitting problem. "
   ]
  },
  {
   "cell_type": "markdown",
   "metadata": {
    "colab_type": "text",
    "id": "799rPbkz-Jji"
   },
   "source": [
    "## d.) Model 4 (Add dropout)"
   ]
  },
  {
   "cell_type": "code",
   "execution_count": 91,
   "metadata": {
    "colab": {
     "base_uri": "https://localhost:8080/",
     "height": 255
    },
    "colab_type": "code",
    "id": "rmVbILn7CjSK",
    "outputId": "c10e1229-e2cc-4515-97f8-0c49317468c0"
   },
   "outputs": [],
   "source": [
    "##Build, compile, and fit model 3\n",
    "from keras.models import Sequential \n",
    "from keras.layers import *\n",
    "from keras import optimizers\n",
    "model4 = Sequential()\n",
    "model4.add(Bidirectional(LSTM(256, return_sequences=True, input_shape=(48, 4))))\n",
    "model4.add(Bidirectional(LSTM(256)))\n",
    "model4.add(Dropout(0.15))\n",
    "model4.add(Dense(1))\n",
    "model4.compile(optimizer='adam', loss='mae')"
   ]
  },
  {
   "cell_type": "code",
   "execution_count": 93,
   "metadata": {},
   "outputs": [
    {
     "name": "stdout",
     "output_type": "stream",
     "text": [
      "Model: \"sequential_11\"\n",
      "_________________________________________________________________\n",
      "Layer (type)                 Output Shape              Param #   \n",
      "=================================================================\n",
      "bidirectional_5 (Bidirection (None, 48, 512)           534528    \n",
      "_________________________________________________________________\n",
      "bidirectional_6 (Bidirection (None, 512)               1574912   \n",
      "_________________________________________________________________\n",
      "dropout_4 (Dropout)          (None, 512)               0         \n",
      "_________________________________________________________________\n",
      "dense_15 (Dense)             (None, 1)                 513       \n",
      "=================================================================\n",
      "Total params: 2,109,953\n",
      "Trainable params: 2,109,953\n",
      "Non-trainable params: 0\n",
      "_________________________________________________________________\n"
     ]
    }
   ],
   "source": [
    "model4.summary()"
   ]
  },
  {
   "cell_type": "code",
   "execution_count": 92,
   "metadata": {
    "colab": {
     "base_uri": "https://localhost:8080/",
     "height": 122
    },
    "colab_type": "code",
    "id": "drA9Wuk1CkWq",
    "outputId": "88d74eee-94db-4bc2-b728-ce65b9621c11"
   },
   "outputs": [
    {
     "name": "stdout",
     "output_type": "stream",
     "text": [
      "Train on 38400 samples, validate on 9600 samples\n",
      "Epoch 1/10\n",
      "38400/38400 [==============================] - 1027s 27ms/step - loss: 0.2392 - val_loss: 0.1981\n",
      "Epoch 2/10\n",
      "38400/38400 [==============================] - 971s 25ms/step - loss: 0.2075 - val_loss: 0.2106\n",
      "Epoch 3/10\n",
      "38400/38400 [==============================] - 972s 25ms/step - loss: 0.1986 - val_loss: 0.2004\n",
      "Epoch 4/10\n",
      "38400/38400 [==============================] - 972s 25ms/step - loss: 0.1927 - val_loss: 0.1828\n",
      "Epoch 5/10\n",
      "38400/38400 [==============================] - 972s 25ms/step - loss: 0.1867 - val_loss: 0.1851\n",
      "Epoch 6/10\n",
      "38400/38400 [==============================] - 975s 25ms/step - loss: 0.1821 - val_loss: 0.1736\n",
      "Epoch 7/10\n",
      "38400/38400 [==============================] - 977s 25ms/step - loss: 0.1793 - val_loss: 0.1760\n",
      "Epoch 8/10\n",
      "38400/38400 [==============================] - 977s 25ms/step - loss: 0.1771 - val_loss: 0.1685\n",
      "Epoch 9/10\n",
      "38400/38400 [==============================] - 974s 25ms/step - loss: 0.1721 - val_loss: 0.1676\n",
      "Epoch 10/10\n",
      "38400/38400 [==============================] - 979s 25ms/step - loss: 0.1692 - val_loss: 0.1658\n"
     ]
    }
   ],
   "source": [
    "history4 = model4.fit(x_train, y_train, batch_size =32,epochs=10, validation_data=(x_valid, y_valid))"
   ]
  },
  {
   "cell_type": "code",
   "execution_count": 94,
   "metadata": {
    "colab": {},
    "colab_type": "code",
    "id": "87O61TySCpMo"
   },
   "outputs": [
    {
     "name": "stdout",
     "output_type": "stream",
     "text": [
      "9600/9600 [==============================] - 75s 8ms/step\n",
      "valid_loss=0.16575005042056243\n"
     ]
    }
   ],
   "source": [
    "# Evaluate model \n",
    "valid_loss4 = model4.evaluate(x_valid, y_valid, verbose=1) \n",
    "print (\"valid_loss=%s\" % (valid_loss4))"
   ]
  },
  {
   "cell_type": "code",
   "execution_count": 96,
   "metadata": {},
   "outputs": [],
   "source": [
    "#make predictions\n",
    "preds4= model4.predict(x_test)\n",
    "preds4_renorm = (preds4*std[1]) + mean[1]"
   ]
  },
  {
   "cell_type": "code",
   "execution_count": 95,
   "metadata": {},
   "outputs": [
    {
     "data": {
      "image/png": "[encoded data removed]",
      "text/plain": [
       "<Figure size 432x288 with 1 Axes>"
      ]
     },
     "metadata": {
      "needs_background": "light"
     },
     "output_type": "display_data"
    }
   ],
   "source": [
    "plotLoss(history4)"
   ]
  },
  {
   "cell_type": "markdown",
   "metadata": {},
   "source": [
    "From the forth model, the model with performs a better with BLSTM and dropout. The 256 units performs well but requires much time to fit one epoch so it is not suitable to train with longer process (100 epochs). So, we will build on this model. To improve the model and we will add the dropout after each layer and reduce units in the next expirement to solve the overfitting problem. We will train the network longer to 100 epochs."
   ]
  },
  {
   "cell_type": "markdown",
   "metadata": {},
   "source": [
    "## e.) The Best Model"
   ]
  },
  {
   "cell_type": "code",
   "execution_count": 18,
   "metadata": {
    "colab": {},
    "colab_type": "code",
    "id": "GtK0w4XOIlQp"
   },
   "outputs": [
    {
     "name": "stderr",
     "output_type": "stream",
     "text": [
      "Using TensorFlow backend.\n"
     ]
    }
   ],
   "source": [
    "##Build, compile, and fit model 3\n",
    "from keras.models import Sequential \n",
    "from keras.layers import *\n",
    "from keras import optimizers\n",
    "model5 = Sequential()\n",
    "model5.add(Bidirectional(LSTM(150, activation='relu', return_sequences=True, input_shape=(48, 4))))\n",
    "model5.add(Dropout(0.15))\n",
    "model5.add(Bidirectional(LSTM(150, activation='relu')))\n",
    "model5.add(Dropout(0.15))\n",
    "model5.add(Dense(1))\n",
    "model5.compile(optimizer='adam', loss='mae')"
   ]
  },
  {
   "cell_type": "code",
   "execution_count": 21,
   "metadata": {
    "colab": {},
    "colab_type": "code",
    "id": "UU4yrYqSOXiO"
   },
   "outputs": [
    {
     "name": "stdout",
     "output_type": "stream",
     "text": [
      "Model: \"sequential_1\"\n",
      "_________________________________________________________________\n",
      "Layer (type)                 Output Shape              Param #   \n",
      "=================================================================\n",
      "bidirectional_1 (Bidirection (None, 48, 300)           186000    \n",
      "_________________________________________________________________\n",
      "dropout_1 (Dropout)          (None, 48, 300)           0         \n",
      "_________________________________________________________________\n",
      "bidirectional_2 (Bidirection (None, 300)               541200    \n",
      "_________________________________________________________________\n",
      "dropout_2 (Dropout)          (None, 300)               0         \n",
      "_________________________________________________________________\n",
      "dense_1 (Dense)              (None, 1)                 301       \n",
      "=================================================================\n",
      "Total params: 727,501\n",
      "Trainable params: 727,501\n",
      "Non-trainable params: 0\n",
      "_________________________________________________________________\n"
     ]
    }
   ],
   "source": [
    "model5.summary()"
   ]
  },
  {
   "cell_type": "code",
   "execution_count": 20,
   "metadata": {
    "colab": {},
    "colab_type": "code",
    "id": "iN6au6kwBqUJ"
   },
   "outputs": [
    {
     "name": "stdout",
     "output_type": "stream",
     "text": [
      "Train on 38400 samples, validate on 9600 samples\n",
      "Epoch 1/100\n",
      "38400/38400 [==============================] - 306s 8ms/step - loss: 0.2629 - val_loss: 0.2100\n",
      "Epoch 2/100\n",
      "38400/38400 [==============================] - 295s 8ms/step - loss: 0.2158 - val_loss: 0.1991\n",
      "Epoch 3/100\n",
      "38400/38400 [==============================] - 313s 8ms/step - loss: 0.2027 - val_loss: 0.1949\n",
      "Epoch 4/100\n",
      "38400/38400 [==============================] - 302s 8ms/step - loss: 0.1967 - val_loss: 0.1805\n",
      "Epoch 5/100\n",
      "38400/38400 [==============================] - 301s 8ms/step - loss: 0.1916 - val_loss: 0.1753\n",
      "Epoch 6/100\n",
      "38400/38400 [==============================] - 303s 8ms/step - loss: 0.1869 - val_loss: 0.1775\n",
      "Epoch 7/100\n",
      "38400/38400 [==============================] - 322s 8ms/step - loss: 0.1825 - val_loss: 0.1722\n",
      "Epoch 8/100\n",
      "38400/38400 [==============================] - 302s 8ms/step - loss: 0.1779 - val_loss: 0.1655\n",
      "Epoch 9/100\n",
      "38400/38400 [==============================] - 303s 8ms/step - loss: 0.1746 - val_loss: 0.1717\n",
      "Epoch 10/100\n",
      "38400/38400 [==============================] - 319s 8ms/step - loss: 0.1703 - val_loss: 0.1656\n",
      "Epoch 11/100\n",
      "38400/38400 [==============================] - 310s 8ms/step - loss: 0.1671 - val_loss: 0.1689\n",
      "Epoch 12/100\n",
      "38400/38400 [==============================] - 318s 8ms/step - loss: 0.1625 - val_loss: 0.1592\n",
      "Epoch 13/100\n",
      "38400/38400 [==============================] - 301s 8ms/step - loss: 0.1597 - val_loss: 0.1537\n",
      "Epoch 14/100\n",
      "38400/38400 [==============================] - 304s 8ms/step - loss: 0.1556 - val_loss: 0.1509\n",
      "Epoch 15/100\n",
      "38400/38400 [==============================] - 302s 8ms/step - loss: 0.1519 - val_loss: 0.1476\n",
      "Epoch 16/100\n",
      "38400/38400 [==============================] - 322s 8ms/step - loss: 0.1478 - val_loss: 0.1478\n",
      "Epoch 17/100\n",
      "38400/38400 [==============================] - 303s 8ms/step - loss: 0.1447 - val_loss: 0.1401\n",
      "Epoch 18/100\n",
      "38400/38400 [==============================] - 306s 8ms/step - loss: 0.1409 - val_loss: 0.1423\n",
      "Epoch 19/100\n",
      "38400/38400 [==============================] - 324s 8ms/step - loss: 0.1378 - val_loss: 0.1401\n",
      "Epoch 20/100\n",
      "38400/38400 [==============================] - 308s 8ms/step - loss: 0.1347 - val_loss: 0.1293\n",
      "Epoch 21/100\n",
      "38400/38400 [==============================] - 308s 8ms/step - loss: 0.1319 - val_loss: 0.1361\n",
      "Epoch 22/100\n",
      "38400/38400 [==============================] - 333s 9ms/step - loss: 0.1288 - val_loss: 0.1316\n",
      "Epoch 23/100\n",
      "38400/38400 [==============================] - 307s 8ms/step - loss: 0.1254 - val_loss: 0.1289\n",
      "Epoch 24/100\n",
      "38400/38400 [==============================] - 305s 8ms/step - loss: 0.1237 - val_loss: 0.1219\n",
      "Epoch 25/100\n",
      "38400/38400 [==============================] - 307s 8ms/step - loss: 0.1207 - val_loss: 0.1216\n",
      "Epoch 26/100\n",
      "38400/38400 [==============================] - 309s 8ms/step - loss: 0.1180 - val_loss: 0.1236\n",
      "Epoch 27/100\n",
      "38400/38400 [==============================] - 323s 8ms/step - loss: 0.1152 - val_loss: 0.1140\n",
      "Epoch 28/100\n",
      "38400/38400 [==============================] - 310s 8ms/step - loss: 0.1134 - val_loss: 0.1154\n",
      "Epoch 29/100\n",
      "38400/38400 [==============================] - 306s 8ms/step - loss: 0.1117 - val_loss: 0.1145\n",
      "Epoch 30/100\n",
      "38400/38400 [==============================] - 303s 8ms/step - loss: 0.1101 - val_loss: 0.1132\n",
      "Epoch 31/100\n",
      "38400/38400 [==============================] - 306s 8ms/step - loss: 0.1086 - val_loss: 0.1123\n",
      "Epoch 32/100\n",
      "38400/38400 [==============================] - 309s 8ms/step - loss: 0.1063 - val_loss: 0.1029\n",
      "Epoch 33/100\n",
      "38400/38400 [==============================] - 325s 8ms/step - loss: 0.1039 - val_loss: 0.1055\n",
      "Epoch 34/100\n",
      "38400/38400 [==============================] - 307s 8ms/step - loss: 0.1027 - val_loss: 0.1023\n",
      "Epoch 35/100\n",
      "38400/38400 [==============================] - 327s 9ms/step - loss: 0.1018 - val_loss: 0.1021\n",
      "Epoch 36/100\n",
      "38400/38400 [==============================] - 314s 8ms/step - loss: 0.1003 - val_loss: 0.1002\n",
      "Epoch 37/100\n",
      "38400/38400 [==============================] - 310s 8ms/step - loss: 0.0985 - val_loss: 0.0988\n",
      "Epoch 38/100\n",
      "38400/38400 [==============================] - 310s 8ms/step - loss: 0.0968 - val_loss: 0.0979\n",
      "Epoch 39/100\n",
      "38400/38400 [==============================] - 307s 8ms/step - loss: 0.0963 - val_loss: 0.0957\n",
      "Epoch 40/100\n",
      "38400/38400 [==============================] - 310s 8ms/step - loss: 0.0944 - val_loss: 0.0960\n",
      "Epoch 41/100\n",
      "38400/38400 [==============================] - 316s 8ms/step - loss: 0.0939 - val_loss: 0.0927\n",
      "Epoch 42/100\n",
      "38400/38400 [==============================] - 326s 8ms/step - loss: 0.0925 - val_loss: 0.0969\n",
      "Epoch 43/100\n",
      "38400/38400 [==============================] - 318s 8ms/step - loss: 0.0917 - val_loss: 0.0960\n",
      "Epoch 44/100\n",
      "38400/38400 [==============================] - 310s 8ms/step - loss: 0.0908 - val_loss: 0.0911\n",
      "Epoch 45/100\n",
      "38400/38400 [==============================] - 310s 8ms/step - loss: 0.0901 - val_loss: 0.0907\n",
      "Epoch 46/100\n",
      "38400/38400 [==============================] - 309s 8ms/step - loss: 0.0892 - val_loss: 0.0890\n",
      "Epoch 47/100\n",
      "38400/38400 [==============================] - 308s 8ms/step - loss: 0.0883 - val_loss: 0.0857\n",
      "Epoch 48/100\n",
      "38400/38400 [==============================] - 308s 8ms/step - loss: 0.0871 - val_loss: 0.0859\n",
      "Epoch 49/100\n",
      "38400/38400 [==============================] - 310s 8ms/step - loss: 0.0865 - val_loss: 0.0857\n",
      "Epoch 50/100\n",
      "38400/38400 [==============================] - 309s 8ms/step - loss: 0.0858 - val_loss: 0.0855\n",
      "Epoch 51/100\n",
      "38400/38400 [==============================] - 309s 8ms/step - loss: 0.0852 - val_loss: 0.0837\n",
      "Epoch 52/100\n",
      "38400/38400 [==============================] - 308s 8ms/step - loss: 0.0845 - val_loss: 0.0847\n",
      "Epoch 53/100\n",
      "38400/38400 [==============================] - 313s 8ms/step - loss: 0.0832 - val_loss: 0.0825\n",
      "Epoch 54/100\n",
      "38400/38400 [==============================] - 311s 8ms/step - loss: 0.0834 - val_loss: 0.0804\n",
      "Epoch 55/100\n",
      "38400/38400 [==============================] - 311s 8ms/step - loss: 0.0828 - val_loss: 0.0859\n",
      "Epoch 56/100\n",
      "38400/38400 [==============================] - 309s 8ms/step - loss: 0.0814 - val_loss: 0.0802\n",
      "Epoch 57/100\n",
      "38400/38400 [==============================] - 309s 8ms/step - loss: 0.0811 - val_loss: 0.0827\n",
      "Epoch 58/100\n",
      "38400/38400 [==============================] - 310s 8ms/step - loss: 0.0807 - val_loss: 0.0824\n",
      "Epoch 59/100\n",
      "38400/38400 [==============================] - 310s 8ms/step - loss: 0.0799 - val_loss: 0.0798\n",
      "Epoch 60/100\n",
      "38400/38400 [==============================] - 309s 8ms/step - loss: 0.0801 - val_loss: 0.0811\n",
      "Epoch 61/100\n",
      "38400/38400 [==============================] - 311s 8ms/step - loss: 0.0794 - val_loss: 0.0830\n",
      "Epoch 62/100\n",
      "38400/38400 [==============================] - 310s 8ms/step - loss: 0.0789 - val_loss: 0.0787\n",
      "Epoch 63/100\n",
      "38400/38400 [==============================] - 311s 8ms/step - loss: 0.0782 - val_loss: 0.0775\n",
      "Epoch 64/100\n",
      "38400/38400 [==============================] - 312s 8ms/step - loss: 0.0782 - val_loss: 0.0798\n",
      "Epoch 65/100\n",
      "38400/38400 [==============================] - 311s 8ms/step - loss: 0.0785 - val_loss: 0.0780\n",
      "Epoch 66/100\n",
      "38400/38400 [==============================] - 308s 8ms/step - loss: 0.0771 - val_loss: 0.0763\n",
      "Epoch 67/100\n",
      "38400/38400 [==============================] - 308s 8ms/step - loss: 0.0767 - val_loss: 0.0751\n",
      "Epoch 68/100\n",
      "38400/38400 [==============================] - 311s 8ms/step - loss: 0.0760 - val_loss: 0.0763\n",
      "Epoch 69/100\n",
      "38400/38400 [==============================] - 309s 8ms/step - loss: 0.0757 - val_loss: 0.0739\n",
      "Epoch 70/100\n",
      "38400/38400 [==============================] - 307s 8ms/step - loss: 0.0756 - val_loss: 0.0753\n",
      "Epoch 71/100\n",
      "38400/38400 [==============================] - 313s 8ms/step - loss: 0.0758 - val_loss: 0.0781\n",
      "Epoch 72/100\n",
      "38400/38400 [==============================] - 317s 8ms/step - loss: 0.0750 - val_loss: 0.0787\n",
      "Epoch 73/100\n",
      "38400/38400 [==============================] - 322s 8ms/step - loss: 0.0742 - val_loss: 0.0731\n",
      "Epoch 74/100\n",
      "38400/38400 [==============================] - 319s 8ms/step - loss: 0.0745 - val_loss: 0.0730\n",
      "Epoch 75/100\n",
      "38400/38400 [==============================] - 325s 8ms/step - loss: 0.0744 - val_loss: 0.0741\n",
      "Epoch 76/100\n",
      "38400/38400 [==============================] - 315s 8ms/step - loss: 0.0738 - val_loss: 0.0745\n",
      "Epoch 77/100\n",
      "38400/38400 [==============================] - 317s 8ms/step - loss: 0.0730 - val_loss: 0.0741\n",
      "Epoch 78/100\n",
      "38400/38400 [==============================] - 318s 8ms/step - loss: 0.0729 - val_loss: 0.0743\n",
      "Epoch 79/100\n",
      "38400/38400 [==============================] - 313s 8ms/step - loss: 0.0725 - val_loss: 0.0744\n",
      "Epoch 80/100\n",
      "38400/38400 [==============================] - 313s 8ms/step - loss: 0.0723 - val_loss: 0.0722\n",
      "Epoch 81/100\n",
      "38400/38400 [==============================] - 317s 8ms/step - loss: 0.0720 - val_loss: 0.0724\n",
      "Epoch 82/100\n",
      "38400/38400 [==============================] - 317s 8ms/step - loss: 0.0718 - val_loss: 0.0728\n",
      "Epoch 83/100\n",
      "38400/38400 [==============================] - 316s 8ms/step - loss: 0.0713 - val_loss: 0.0700\n",
      "Epoch 84/100\n",
      "38400/38400 [==============================] - 315s 8ms/step - loss: 0.0710 - val_loss: 0.0697\n",
      "Epoch 85/100\n",
      "38400/38400 [==============================] - 314s 8ms/step - loss: 0.0713 - val_loss: 0.0690\n",
      "Epoch 86/100\n",
      "38400/38400 [==============================] - 314s 8ms/step - loss: 0.0703 - val_loss: 0.0710\n",
      "Epoch 87/100\n",
      "38400/38400 [==============================] - 315s 8ms/step - loss: 0.0701 - val_loss: 0.0723\n",
      "Epoch 88/100\n",
      "38400/38400 [==============================] - 316s 8ms/step - loss: 0.0704 - val_loss: 0.0707\n",
      "Epoch 89/100\n",
      "38400/38400 [==============================] - 315s 8ms/step - loss: 0.0705 - val_loss: 0.0729\n",
      "Epoch 90/100\n",
      "38400/38400 [==============================] - 315s 8ms/step - loss: 0.0698 - val_loss: 0.0701\n",
      "Epoch 91/100\n",
      "38400/38400 [==============================] - 313s 8ms/step - loss: 0.0696 - val_loss: 0.0702\n",
      "Epoch 92/100\n",
      "38400/38400 [==============================] - 316s 8ms/step - loss: 0.0693 - val_loss: 0.0703\n",
      "Epoch 93/100\n",
      "38400/38400 [==============================] - 314s 8ms/step - loss: 0.0692 - val_loss: 0.0728\n",
      "Epoch 94/100\n",
      "38400/38400 [==============================] - 314s 8ms/step - loss: 0.0694 - val_loss: 0.0685\n",
      "Epoch 95/100\n",
      "38400/38400 [==============================] - 314s 8ms/step - loss: 0.0688 - val_loss: 0.0690\n",
      "Epoch 96/100\n",
      "38400/38400 [==============================] - 315s 8ms/step - loss: 0.0682 - val_loss: 0.0712\n",
      "Epoch 97/100\n",
      "38400/38400 [==============================] - 317s 8ms/step - loss: 0.0681 - val_loss: 0.0672\n",
      "Epoch 98/100\n",
      "38400/38400 [==============================] - 317s 8ms/step - loss: 0.0681 - val_loss: 0.0682\n",
      "Epoch 99/100\n",
      "38400/38400 [==============================] - 316s 8ms/step - loss: 0.0679 - val_loss: 0.0688\n",
      "Epoch 100/100\n",
      "38400/38400 [==============================] - 315s 8ms/step - loss: 0.0682 - val_loss: 0.0680\n"
     ]
    }
   ],
   "source": [
    "history5 = model5.fit(x_train, y_train, batch_size =32,epochs=100, validation_data=(x_valid, y_valid))"
   ]
  },
  {
   "cell_type": "code",
   "execution_count": 22,
   "metadata": {
    "colab": {},
    "colab_type": "code",
    "id": "wgvgF7L-6uKi"
   },
   "outputs": [
    {
     "name": "stdout",
     "output_type": "stream",
     "text": [
      "9600/9600 [==============================] - 18s 2ms/step\n",
      "valid_loss=0.06801869122932355\n"
     ]
    }
   ],
   "source": [
    "# Evaluate model\n",
    "valid_loss5 = model5.evaluate(x_valid, y_valid, verbose=1) \n",
    "print (\"valid_loss=%s\" % (valid_loss5))"
   ]
  },
  {
   "cell_type": "code",
   "execution_count": 24,
   "metadata": {
    "colab": {},
    "colab_type": "code",
    "id": "eCwImAyT_VaK"
   },
   "outputs": [],
   "source": [
    "#make predictions\n",
    "preds5= model5.predict(x_test)\n",
    "preds5_renorm = (preds5*std[1]) + mean[1]"
   ]
  },
  {
   "cell_type": "code",
   "execution_count": 29,
   "metadata": {},
   "outputs": [],
   "source": [
    "import pandas as pd\n",
    "formattedDate = []\n",
    "for date in normalized_df.index[-21984:]:\n",
    "  new_date = date.replace(\" \", \"_\")\n",
    "  formattedDate.append(new_date)\n",
    "preds_reshape5 = preds5_renorm.reshape(len(preds5_renorm[:,0]),)\n",
    "preds_data5 = pd.DataFrame({'date_time': formattedDate , 'temperature':preds_reshape5},)\n",
    "preds_data5 = preds_data5.reset_index(drop=True)\n",
    "preds_data5.to_csv('./tem_preds_4.csv', index=False)"
   ]
  },
  {
   "cell_type": "code",
   "execution_count": 57,
   "metadata": {},
   "outputs": [],
   "source": [
    "weightpath = './M5_100'\n",
    "model5.save_weights(weightpath)"
   ]
  },
  {
   "cell_type": "code",
   "execution_count": 56,
   "metadata": {},
   "outputs": [
    {
     "data": {
      "image/png": "[encoded data removed]",
      "text/plain": [
       "<Figure size 432x288 with 1 Axes>"
      ]
     },
     "metadata": {
      "needs_background": "light"
     },
     "output_type": "display_data"
    }
   ],
   "source": [
    "plotLoss(history5)"
   ]
  },
  {
   "cell_type": "markdown",
   "metadata": {},
   "source": [
    "## <font color = blue>Conclusion</font>\n",
    "The baseline model was developed with LSTM. One Hyperparmeter is tuned in each step and model evaluation using MAE loss was performed to check the improvement. Then the prediction was made from the best mode. The best model was selected regarding its performance on loss convergence, overfitting, and time taken to fit the model. The best model is in the last page fit with 100 epochs. The best model was used to forcast a weather for the test set and submitted the predicted value to Kaggle."
   ]
  },
  {
   "cell_type": "markdown",
   "metadata": {},
   "source": [
    "---"
   ]
  }
 ],
 "metadata": {
  "accelerator": "GPU",
  "colab": {
   "collapsed_sections": [],
   "name": "cnn_578-Temp.ipynb",
   "provenance": [],
   "toc_visible": true
  },
  "kernelspec": {
   "display_name": "Python 3",
   "language": "python",
   "name": "python3"
  },
  "language_info": {
   "codemirror_mode": {
    "name": "ipython",
    "version": 3
   },
   "file_extension": ".py",
   "mimetype": "text/x-python",
   "name": "python",
   "nbconvert_exporter": "python",
   "pygments_lexer": "ipython3",
   "version": "3.7.4"
  }
 },
 "nbformat": 4,
 "nbformat_minor": 1
}
